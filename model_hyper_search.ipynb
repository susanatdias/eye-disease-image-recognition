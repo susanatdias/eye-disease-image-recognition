{
 "cells": [
  {
   "cell_type": "markdown",
   "id": "P6RkstSM7ulN",
   "metadata": {
    "id": "P6RkstSM7ulN"
   },
   "source": [
    "# **Deep Learning Group Project: Eye Disease Classification**\n",
    "**Master's  Degree Program in Data Science and Advanced Analytics, with a specialization in Data Science (A.Y. 2022/2023)**<br/>\n",
    "**NOVA IMS**<br/>\n",
    "\n",
    "\n",
    "### **Group Information**\n",
    "\n",
    "*   André Cunha, 20191224 - r20191224@novaims.unl.pt\n",
    "*   Catarina Duarte, 20191211 - r20191211@novaims.unl.pt\n",
    "*   Cláudia Rocha, 20191249 - r20191249@novaims.unl.pt\n",
    "*   Dinis Melo, 20191190 - r20191190@novaims.unl.pt\n",
    "*   Susana Dias, 20220198 - 20220198@novaims.unl.pt\n",
    "\n",
    "### **Data Source** \n",
    "\n",
    "Kaggle dataset:\n",
    "https://www.kaggle.com/datasets/gunavenkatdoddi/eye-diseases-classification\n",
    "\n",
    "\n",
    "Link to the prepared dataset: https://drive.google.com/drive/folders/1HEti1Qv_-iXiOf2zp2amG8XFgk-HPuLj?usp=sharing\n",
    "\n",
    "### **Main Steps** \n",
    "\n",
    "\n",
    "*   For each of our best models conduct a hyperpameter search \n",
    "*   Run the best models with the hyperparameters achieved \n",
    "*   Compare te results of the original models vs the hypertuned"
   ]
  },
  {
   "cell_type": "markdown",
   "id": "ZtUbLqd-HUdL",
   "metadata": {
    "id": "ZtUbLqd-HUdL"
   },
   "source": [
    "# **Import the Needed Libraries**"
   ]
  },
  {
   "cell_type": "code",
   "execution_count": 1,
   "id": "vqXQJtHZ7mV1",
   "metadata": {
    "colab": {
     "base_uri": "https://localhost:8080/"
    },
    "executionInfo": {
     "elapsed": 20715,
     "status": "ok",
     "timestamp": 1680988456006,
     "user": {
      "displayName": "André Cunha",
      "userId": "00203721021871530789"
     },
     "user_tz": -60
    },
    "id": "vqXQJtHZ7mV1",
    "outputId": "f978951b-a5e0-41cd-820c-7b9f761438d7"
   },
   "outputs": [
    {
     "name": "stdout",
     "output_type": "stream",
     "text": [
      "\u001b[?25l     \u001b[90m━━━━━━━━━━━━━━━━━━━━━━━━━━━━━━━━━━━━━━━━\u001b[0m \u001b[32m0.0/172.2 KB\u001b[0m \u001b[31m?\u001b[0m eta \u001b[36m-:--:--\u001b[0m\r",
      "\u001b[2K     \u001b[91m━━━━━━━━━━━━━━━━━━━━━━━━━━━━━━━━━━━━━\u001b[0m\u001b[90m╺\u001b[0m\u001b[90m━\u001b[0m \u001b[32m163.8/172.2 KB\u001b[0m \u001b[31m6.8 MB/s\u001b[0m eta \u001b[36m0:00:01\u001b[0m\r",
      "\u001b[2K     \u001b[90m━━━━━━━━━━━━━━━━━━━━━━━━━━━━━━━━━━━━━━━\u001b[0m \u001b[32m172.2/172.2 KB\u001b[0m \u001b[31m2.8 MB/s\u001b[0m eta \u001b[36m0:00:00\u001b[0m\n",
      "\u001b[?25h"
     ]
    }
   ],
   "source": [
    "!pip install -q -U keras-tuner\n",
    "\n",
    "# Imports\n",
    "import tensorflow as tf\n",
    "from tensorflow.keras import datasets\n",
    "from tensorflow.keras.preprocessing import image_dataset_from_directory\n",
    "from tensorflow.keras.preprocessing.image import ImageDataGenerator\n",
    "from tensorflow.keras import Sequential, layers, initializers, regularizers, optimizers, metrics \n",
    "from keras.models import Model\n",
    "from keras.layers import Dense, Conv2D\n",
    "from tensorflow.keras import regularizers\n",
    "import keras_tuner as kt\n",
    "from tensorflow.keras.initializers import GlorotNormal\n",
    "\n",
    "\n",
    "from sklearn.metrics import confusion_matrix\n",
    "\n",
    "import os\n",
    "import time\n",
    "import shutil\n",
    "import random \n",
    "import zipfile\n",
    "\n",
    "import numpy as np\n",
    "import pandas as pd\n",
    "\n",
    "import seaborn as sns\n",
    "import matplotlib.pyplot as plt\n",
    "import matplotlib.image as mpimg\n",
    "from matplotlib.colors import ListedColormap\n"
   ]
  },
  {
   "cell_type": "markdown",
   "id": "KJvbvbEfIDLu",
   "metadata": {
    "id": "KJvbvbEfIDLu"
   },
   "source": [
    "# **Needed Code**\n",
    "\n"
   ]
  },
  {
   "cell_type": "markdown",
   "id": "_Jc1FkfmIW5R",
   "metadata": {
    "id": "_Jc1FkfmIW5R"
   },
   "source": [
    "We are repeating the same pre-processing steps from previous notebooks with the same seed to perserved the worked on data division. "
   ]
  },
  {
   "cell_type": "code",
   "execution_count": 2,
   "id": "1WGLhJgbElrq",
   "metadata": {
    "colab": {
     "base_uri": "https://localhost:8080/"
    },
    "executionInfo": {
     "elapsed": 31835,
     "status": "ok",
     "timestamp": 1680988487837,
     "user": {
      "displayName": "André Cunha",
      "userId": "00203721021871530789"
     },
     "user_tz": -60
    },
    "id": "1WGLhJgbElrq",
    "outputId": "f366db6f-d7e8-493d-c243-d11a65e54945"
   },
   "outputs": [
    {
     "name": "stdout",
     "output_type": "stream",
     "text": [
      "Mounted at /content/drive\n",
      "File transfer completed in 12.864 seconds\n"
     ]
    }
   ],
   "source": [
    "# Set the machine\n",
    "gdrive = True\n",
    "# Set the connection string\n",
    "path = \"/content/drive/MyDrive/Deep Learning/Projeto DL/\"\n",
    "main_folder, training_folder, testing_folder = \"dataset_prepared/\", \"train/\", \"test/\"\n",
    "# If using Google Drive\n",
    "if gdrive:\n",
    "    # Setup drive\n",
    "    from google.colab import drive\n",
    "    drive.mount('/content/drive')        \n",
    "    # Transfer zip dataset to the current virtual machine\n",
    "    t0 = time.time()\n",
    "    shutil.copyfile(path + 'dataset_prepared.zip', 'dataset_prepared.zip')\n",
    "    # Extract files\n",
    "    zip_ = zipfile.ZipFile('dataset_prepared.zip')\n",
    "    zip_.extractall()\n",
    "    zip_.close()\n",
    "    print(\"File transfer completed in %0.3f seconds\" % (time.time() - t0))\n",
    "    path = \"\""
   ]
  },
  {
   "cell_type": "code",
   "execution_count": 3,
   "id": "ZDDBe22m7RmV",
   "metadata": {
    "executionInfo": {
     "elapsed": 9,
     "status": "ok",
     "timestamp": 1680988487838,
     "user": {
      "displayName": "André Cunha",
      "userId": "00203721021871530789"
     },
     "user_tz": -60
    },
    "id": "ZDDBe22m7RmV"
   },
   "outputs": [],
   "source": [
    "image_size=(128, 128)\n",
    "crop_to_aspect_ratio=True\n",
    "color_mode='rgb'\n",
    "batch_size=64\n",
    "label_mode=\"categorical\"\n",
    "validation_split=0.2\n",
    "shuffle=True\n",
    "seed=0"
   ]
  },
  {
   "cell_type": "code",
   "execution_count": 4,
   "id": "si6Ko-Ef7Uk5",
   "metadata": {
    "colab": {
     "base_uri": "https://localhost:8080/"
    },
    "executionInfo": {
     "elapsed": 4115,
     "status": "ok",
     "timestamp": 1680988491946,
     "user": {
      "displayName": "André Cunha",
      "userId": "00203721021871530789"
     },
     "user_tz": -60
    },
    "id": "si6Ko-Ef7Uk5",
    "outputId": "8e86897d-a0d5-4ed5-81a3-21d4a1d4084e"
   },
   "outputs": [
    {
     "name": "stdout",
     "output_type": "stream",
     "text": [
      "Found 3373 files belonging to 4 classes.\n",
      "Using 2699 files for training.\n",
      "Using 674 files for validation.\n",
      "\n",
      "Object's type:\t <class 'tensorflow.python.data.ops.batch_op._BatchDataset'>\n",
      "Is it a tf.data.Dataset?\t R: True\n",
      "Classes: ['cataract', 'diabetic_retinopathy', 'glaucoma', 'normal']\n"
     ]
    }
   ],
   "source": [
    "# Generate an object of type tf.data.Dataset \n",
    "ds_train, ds_val = image_dataset_from_directory(path + main_folder + training_folder, \n",
    "                                                image_size=image_size,\n",
    "                                                crop_to_aspect_ratio=crop_to_aspect_ratio,\n",
    "                                                color_mode=color_mode,\n",
    "                                                batch_size=batch_size,\n",
    "                                                labels='inferred',\n",
    "                                                label_mode=label_mode,\n",
    "                                                subset='both',\n",
    "                                                validation_split=validation_split, \n",
    "                                                shuffle=shuffle,\n",
    "                                                seed=seed)\n",
    "# Check object properties\n",
    "print(\"\\nObject's type:\\t\", type(ds_train))\n",
    "print(\"Is it a tf.data.Dataset?\\t R:\",isinstance(ds_train, tf.data.Dataset))\n",
    "print(\"Classes:\", ds_train.class_names)"
   ]
  },
  {
   "cell_type": "code",
   "execution_count": 5,
   "id": "d7-eyTny7Edv",
   "metadata": {
    "executionInfo": {
     "elapsed": 6572,
     "status": "ok",
     "timestamp": 1680988498516,
     "user": {
      "displayName": "André Cunha",
      "userId": "00203721021871530789"
     },
     "user_tz": -60
    },
    "id": "d7-eyTny7Edv"
   },
   "outputs": [],
   "source": [
    "iter_train = iter(ds_train)\n",
    "batch_x_train, batch_y_train = iter_train.next()"
   ]
  },
  {
   "cell_type": "code",
   "execution_count": 6,
   "id": "Bol0AcUv7LTl",
   "metadata": {
    "colab": {
     "base_uri": "https://localhost:8080/"
    },
    "executionInfo": {
     "elapsed": 317,
     "status": "ok",
     "timestamp": 1680988498829,
     "user": {
      "displayName": "André Cunha",
      "userId": "00203721021871530789"
     },
     "user_tz": -60
    },
    "id": "Bol0AcUv7LTl",
    "outputId": "061ab061-b9c4-4dc4-ca23-c28ea4b941ef"
   },
   "outputs": [
    {
     "name": "stdout",
     "output_type": "stream",
     "text": [
      "Found 844 files belonging to 4 classes.\n"
     ]
    }
   ],
   "source": [
    "ds_test = image_dataset_from_directory(path + main_folder + testing_folder, \n",
    "                                       image_size=image_size,\n",
    "                                       crop_to_aspect_ratio=crop_to_aspect_ratio,\n",
    "                                       color_mode=color_mode,\n",
    "                                       batch_size=batch_size,\n",
    "                                       label_mode=label_mode,                                     \n",
    "                                       shuffle=shuffle,\n",
    "                                       seed=seed)"
   ]
  },
  {
   "cell_type": "markdown",
   "id": "nD1bjpaaKFL2",
   "metadata": {
    "id": "nD1bjpaaKFL2"
   },
   "source": [
    "# **Functions**\n",
    "\n",
    "We defined the functions used in the previous notebooks to compile the model and analize the results"
   ]
  },
  {
   "cell_type": "markdown",
   "id": "ChzP6q2mK1C5",
   "metadata": {
    "id": "ChzP6q2mK1C5"
   },
   "source": []
  },
  {
   "cell_type": "code",
   "execution_count": 7,
   "id": "eMp59kQ8KH6a",
   "metadata": {
    "executionInfo": {
     "elapsed": 7,
     "status": "ok",
     "timestamp": 1680988498830,
     "user": {
      "displayName": "André Cunha",
      "userId": "00203721021871530789"
     },
     "user_tz": -60
    },
    "id": "eMp59kQ8KH6a"
   },
   "outputs": [],
   "source": [
    "\n",
    "def compile_model(model, learning_rate = 0.001):\n",
    "    model.compile(loss=\"categorical_crossentropy\",\n",
    "                  optimizer=optimizers.RMSprop(learning_rate=learning_rate),\n",
    "                  metrics=[metrics.CategoricalAccuracy(name='accuracy'),\n",
    "                          ])"
   ]
  },
  {
   "cell_type": "code",
   "execution_count": 8,
   "id": "9a7JjSszKMwx",
   "metadata": {
    "executionInfo": {
     "elapsed": 7,
     "status": "ok",
     "timestamp": 1680988498831,
     "user": {
      "displayName": "André Cunha",
      "userId": "00203721021871530789"
     },
     "user_tz": -60
    },
    "id": "9a7JjSszKMwx"
   },
   "outputs": [],
   "source": [
    "def plot_training_history(history):\n",
    "    df_hist = pd.DataFrame.from_dict(history.history)\n",
    "    df_hist[\"Epoch\"] = np.arange(1, len(df_hist) + 1, 1)\n",
    "\n",
    "    fig, axs = plt.subplots(1, 2, figsize=(16, 4))\n",
    "\n",
    "    # Plot loss curves\n",
    "    ax1 = df_hist.plot(x=\"Epoch\", y=['loss', 'val_loss'],\n",
    "                       kind=\"line\", grid=True, legend=True,\n",
    "                       ylabel=\"Categorical cross-entropy\", \n",
    "                       xlabel=\"Epoch\", title=\"Loss curves\",                  \n",
    "                       color=['darkred', 'indianred'], alpha=0.75, fontsize=10, ax=axs[0])\n",
    "    ax1.legend(loc=(0, -0.45), framealpha = 1.0)\n",
    "    ax1.set_ylim([0, 1])\n",
    "\n",
    "    # Plot accuracy curves\n",
    "    ax2 = df_hist.plot(x=\"Epoch\", y=['accuracy', 'val_accuracy'],\n",
    "                       kind=\"line\", grid=True, legend=True,\n",
    "                       ylabel=\"Accuracy\", \n",
    "                       xlabel=\"Epoch\", title=\"Accuracy curves\",                  \n",
    "                       color=['darkblue', 'royalblue','green'], alpha=0.75, fontsize=10, ax=axs[1])\n",
    "    ax2.legend(loc=(0, -0.45), framealpha=1.0)\n",
    "    ax2.set_ylim([0, 1])\n",
    "\n",
    "  "
   ]
  },
  {
   "cell_type": "markdown",
   "id": "0e80b093-d154-4abe-a85c-c45680611c13",
   "metadata": {
    "id": "0e80b093-d154-4abe-a85c-c45680611c13"
   },
   "source": [
    "# **Data Preprocessing**\n"
   ]
  },
  {
   "cell_type": "code",
   "execution_count": 9,
   "id": "79ceb9bd-93b7-43a6-ac54-7a05bf98bac5",
   "metadata": {
    "executionInfo": {
     "elapsed": 7,
     "status": "ok",
     "timestamp": 1680988498831,
     "user": {
      "displayName": "André Cunha",
      "userId": "00203721021871530789"
     },
     "user_tz": -60
    },
    "id": "79ceb9bd-93b7-43a6-ac54-7a05bf98bac5"
   },
   "outputs": [],
   "source": [
    "preprocessing = Sequential([layers.Rescaling(1./255)], name=\"preprocessing\")"
   ]
  },
  {
   "cell_type": "code",
   "execution_count": 10,
   "id": "9a6b7b60-c494-4307-9b18-4d98487fa313",
   "metadata": {
    "executionInfo": {
     "elapsed": 7,
     "status": "ok",
     "timestamp": 1680988498832,
     "user": {
      "displayName": "André Cunha",
      "userId": "00203721021871530789"
     },
     "user_tz": -60
    },
    "id": "9a6b7b60-c494-4307-9b18-4d98487fa313"
   },
   "outputs": [],
   "source": [
    "input_shape = tuple(batch_x_train.shape)\n"
   ]
  },
  {
   "cell_type": "markdown",
   "id": "lq9FT_NgLP7i",
   "metadata": {
    "id": "lq9FT_NgLP7i"
   },
   "source": [
    "# **Best Models**\n",
    "\n",
    "Having in mind all that was explaind in the previous notebook of *Preprocess&modeling*, we imported our two best models to hypertune them, ``Model V1`` and ``Model V1.8``\n",
    "\n",
    "The process of Hyperparameter Tuning corresponds to the search of the best hyperparameters for that spcific architecture of deep learning model so that the model achives the best performance, this is, higher accuracy and smaller loss.\n"
   ]
  },
  {
   "cell_type": "markdown",
   "id": "Iy_FvbRnLj4g",
   "metadata": {
    "id": "Iy_FvbRnLj4g"
   },
   "source": [
    "## **Models V1**"
   ]
  },
  {
   "cell_type": "code",
   "execution_count": 11,
   "id": "6YuqHlpWLiGq",
   "metadata": {
    "executionInfo": {
     "elapsed": 716,
     "status": "ok",
     "timestamp": 1680988499541,
     "user": {
      "displayName": "André Cunha",
      "userId": "00203721021871530789"
     },
     "user_tz": -60
    },
    "id": "6YuqHlpWLiGq"
   },
   "outputs": [],
   "source": [
    "modelv1 = Sequential([\n",
    "                    layers.Input(input_shape[1:]),\n",
    "                    preprocessing,\n",
    "                    \n",
    "                    layers.Conv2D(filters=32, kernel_size=(3, 3), activation='relu'),\n",
    "                    layers.MaxPooling2D(pool_size=(2, 2)),\n",
    "\n",
    "                    layers.Conv2D(filters=64, kernel_size=(3, 3), activation='relu'),\n",
    "                    layers.MaxPooling2D(pool_size=(2, 2)),\n",
    "\n",
    "                    layers.Conv2D(filters=64, kernel_size=(3, 3), activation='relu'),\n",
    "                    layers.MaxPooling2D(pool_size=(2, 2)),\n",
    "\n",
    "                    layers.Conv2D(filters=128, kernel_size=(3, 3), activation='relu'),\n",
    "                    layers.MaxPooling2D(pool_size=(2, 2)),\n",
    "\n",
    "                    layers.Flatten(),\n",
    "\n",
    "                    layers.Dense(units=128, activation='relu'),\n",
    "                    layers.Dense(units=4, activation='softmax')\n",
    "\n",
    "                    ])"
   ]
  },
  {
   "cell_type": "markdown",
   "id": "GA91bjEELpcK",
   "metadata": {
    "id": "GA91bjEELpcK"
   },
   "source": [
    "## **Models V1.8**"
   ]
  },
  {
   "cell_type": "code",
   "execution_count": 12,
   "id": "YbjaOvRaLuOX",
   "metadata": {
    "executionInfo": {
     "elapsed": 215,
     "status": "ok",
     "timestamp": 1680988499755,
     "user": {
      "displayName": "André Cunha",
      "userId": "00203721021871530789"
     },
     "user_tz": -60
    },
    "id": "YbjaOvRaLuOX"
   },
   "outputs": [],
   "source": [
    "modelv1_8 = Sequential([\n",
    "    layers.Input(input_shape[1:]),\n",
    "    preprocessing,\n",
    "\n",
    "    layers.Conv2D(filters=32, kernel_size=(3, 3), activation='relu'),\n",
    "    layers.MaxPooling2D(pool_size=(2, 2)),\n",
    "\n",
    "    layers.Conv2D(filters=64, kernel_size=(3, 3), activation='relu'),\n",
    "    layers.MaxPooling2D(pool_size=(2, 2)),\n",
    "\n",
    "    layers.Conv2D(filters=128, kernel_size=(3, 3), activation='relu'),\n",
    "    layers.Conv2D(filters=128, kernel_size=(3, 3), activation='relu'),\n",
    "    layers.Conv2D(filters=128, kernel_size=(3, 3), activation='relu'),\n",
    "    layers.MaxPooling2D(pool_size=(2, 2)),\n",
    "\n",
    "    layers.Flatten(),\n",
    "\n",
    "    layers.Dense(units=256, activation='relu', kernel_regularizer=regularizers.L2(1e-5),\n",
    "                               bias_regularizer=regularizers.L2(1e-4)),\n",
    "    layers.Dropout(0.5),\n",
    "    layers.Dense(units=4, activation='softmax', kernel_regularizer=regularizers.L2(1e-5),\n",
    "                               bias_regularizer=regularizers.L2(1e-4))\n",
    "])"
   ]
  },
  {
   "cell_type": "markdown",
   "id": "XRMHKiDxItPS",
   "metadata": {
    "id": "XRMHKiDxItPS"
   },
   "source": [
    "# **HyperParameter Search**"
   ]
  },
  {
   "cell_type": "markdown",
   "id": "emN0Usg786h4",
   "metadata": {
    "id": "emN0Usg786h4"
   },
   "source": [
    "## **Model V1**\n",
    "\n",
    "We have defined `Model V1` once again, but this time it is ready to be hypertuned. The main difference from the previously defined model is that this function takes a parameter `hp`, which corresponds to the hyperparameters that will be tested with various possible values in order to achieve the best performance. The explored parameters will be described later.\n",
    "\n"
   ]
  },
  {
   "cell_type": "code",
   "execution_count": 13,
   "id": "z8c37Tye9CPB",
   "metadata": {
    "executionInfo": {
     "elapsed": 3,
     "status": "ok",
     "timestamp": 1680988499756,
     "user": {
      "displayName": "André Cunha",
      "userId": "00203721021871530789"
     },
     "user_tz": -60
    },
    "id": "z8c37Tye9CPB"
   },
   "outputs": [],
   "source": [
    "def build_model_1(hp):\n",
    "  model = Sequential([\n",
    "    layers.Input((input_shape[1:])),\n",
    "    preprocessing,\n",
    "\n",
    "    #1st layer\n",
    "    layers.Conv2D(filters=hp.Int('conv_1_filter', min_value=32, max_value=64, step=16)\n",
    "                    ,kernel_size=(3, 3), activation='relu'),\n",
    "\n",
    "    layers.MaxPooling2D(pool_size=(2, 2)),\n",
    "\n",
    "    #2nd layer\n",
    "    layers.Conv2D(filters=hp.Int('conv_2_filter', min_value=64, max_value=128, step=16)\n",
    "                    ,kernel_size=(3, 3), activation='relu'),\n",
    "    layers.MaxPooling2D(pool_size=(2, 2)),\n",
    "\n",
    "    #3nd layer\n",
    "    layers.Conv2D(filters=hp.Int('conv_3_filter', min_value=64, max_value=256, step=16)\n",
    "                    ,kernel_size=(3, 3), activation='relu'),\n",
    "    layers.MaxPooling2D(pool_size=(2, 2)),\n",
    "\n",
    "    #4nd layer\n",
    "    layers.Conv2D(filters=hp.Int('conv_4_filter', min_value=128, max_value=512, step=16)\n",
    "                    ,kernel_size=(3, 3), activation='relu'),\n",
    "    layers.MaxPooling2D(pool_size=(2, 2)),\n",
    "\n",
    "    layers.Flatten(),\n",
    "\n",
    "    layers.Dense(units=hp.Int('units', min_value=128, max_value=256, step=16), \n",
    "                 activation='relu', \n",
    "                 kernel_regularizer=regularizers.L2(1e-5),\n",
    "                 bias_regularizer=regularizers.L2(1e-4)),\n",
    "\n",
    "    layers.Dropout(hp.Choice('dropout_rate',values=[0.2,0.5])), #    layers.Dropout(0.5),\n",
    "\n",
    "   layers.Dense(units=4, activation='softmax', kernel_regularizer=regularizers.L2(hp.Choice('kernel_regularizer', values=[1e-4, 1e-5, 1e-6])),\n",
    "                               bias_regularizer=regularizers.L2(hp.Choice('bias_regularizer', values=[1e-4, 1e-5, 1e-6])))\n",
    " ])\n",
    "\n",
    "  model.compile( loss='categorical_crossentropy',\n",
    "                optimizer= optimizers.RMSprop(hp.Choice('learning_rate', values=[1e-2, 1e-3])), \n",
    "                metrics= metrics.CategoricalAccuracy(name='accuracy'))\n",
    "\n",
    "  return model"
   ]
  },
  {
   "cell_type": "markdown",
   "id": "MFzE1sOpS8tH",
   "metadata": {
    "id": "MFzE1sOpS8tH"
   },
   "source": [
    "To set our hyperparamenter seacher for Model V1, we will define a tuner that executes a random search from the kerastuner library on `build_model_1`.The random part is due to the seacrh being runned on random samplind and the search because several values of the hyperparamenters will be tested. \n",
    "\n",
    "We defined as the objective metric that the tuner will based its evalutation for the different hyperparameters. In our case, we opted for the `minimization of the validation loss`. This means that, for the tuner to conclude that one set of hyperparameters are better than other, it will be based on the minimization of the validation loss and select the set of hyperparameters that produces the lowest validation loss.  \n",
    "\n",
    "We defined that the same model will only be trained one time with different hyperparameters and it will try maximum 8 different combinations.\n",
    "\n",
    "Our keras tuner performed a random search over the following hyperparameters for the model V1:\n",
    "\n",
    "> *   For `conv_1_filter` the number of filters in the first convolutional layer with the values ranging from 32 to 64 with step size 16, this is, the absolute value that a hyperparameter varies during the search process;\n",
    "\n",
    ">*   For `conv_2_filter` the number of filters in the second convolutional layer with the values ranging from 64 to 128 with step size 16;\n",
    "\n",
    ">*   For `conv_3_filter` the number of filters in the third convolutional layer with the values ranging from 64 to 256 with step size 16;\n",
    "\n",
    ">*   For `conv_4_filter` the number of filters in the fourth convolutional layer with the values ranging from 128 to 512 with step size 16;\n",
    "\n",
    ">* The number `units`  in the dense layer with values ranging from 128 to 256 with step size 16;\n",
    "\n",
    ">* The `dropout_rate`, which corresponds to the probability that a given neuron in our model will be randomly \"dropped out\" during training, testing it with 0.2 or 0.5;\n",
    "\n",
    ">* For `kernel_regularizer`, seeing that we are using a L2 regularization,   the weight given to the sum of the squares of the weights in the loss function, testing this paramenter with 1e-4, 1e-5 and 1e-6;\n",
    "\n",
    ">* The `bias_regularizer`, also using a L2 regularization,  the magnitude of the  penalty that is applied to the biases of the model during training testing this paramenter with 1e-4, 1e-5 and 1e-6;\n",
    "\n",
    ">* The `learning_rate` for the RMSprop optimizer testing it with 0.01 and 0.001.\n",
    "\n"
   ]
  },
  {
   "cell_type": "code",
   "execution_count": 14,
   "id": "sbi7AGgWB6TK",
   "metadata": {
    "executionInfo": {
     "elapsed": 268,
     "status": "ok",
     "timestamp": 1680988500022,
     "user": {
      "displayName": "André Cunha",
      "userId": "00203721021871530789"
     },
     "user_tz": -60
    },
    "id": "sbi7AGgWB6TK"
   },
   "outputs": [],
   "source": [
    "tuner_v1 = kt.RandomSearch(build_model_1,\n",
    "                          objective='val_loss', \n",
    "                          directory=\"my_first_keras_tuner\",\n",
    "                          overwrite=True,                        \n",
    "                          executions_per_trial=1, \n",
    "                          max_trials=8,\n",
    "                          seed=seed)"
   ]
  },
  {
   "cell_type": "markdown",
   "id": "J0BzbawBdm87",
   "metadata": {
    "id": "J0BzbawBdm87"
   },
   "source": [
    "With the tuner ready to be used on Model V1, we will conduct the search by defining it to train and validate for 10 epochs in order to find the best set of hyperparameters."
   ]
  },
  {
   "cell_type": "code",
   "execution_count": 15,
   "id": "EugNo6eGB-eg",
   "metadata": {
    "colab": {
     "base_uri": "https://localhost:8080/"
    },
    "executionInfo": {
     "elapsed": 1565278,
     "status": "ok",
     "timestamp": 1680990065296,
     "user": {
      "displayName": "André Cunha",
      "userId": "00203721021871530789"
     },
     "user_tz": -60
    },
    "id": "EugNo6eGB-eg",
    "outputId": "fe86fbec-8c40-4150-b316-94bfbfda2f5f"
   },
   "outputs": [
    {
     "name": "stdout",
     "output_type": "stream",
     "text": [
      "Trial 8 Complete [00h 03m 06s]\n",
      "val_loss: 0.7855786681175232\n",
      "\n",
      "Best val_loss So Far: 0.6529542207717896\n",
      "Total elapsed time: 00h 26m 05s\n"
     ]
    }
   ],
   "source": [
    "tuner_v1.search(ds_train, epochs=10, validation_data = ds_val)"
   ]
  },
  {
   "cell_type": "code",
   "execution_count": 16,
   "id": "lyMsZjgUFM3k",
   "metadata": {
    "colab": {
     "base_uri": "https://localhost:8080/"
    },
    "executionInfo": {
     "elapsed": 10,
     "status": "ok",
     "timestamp": 1680990065297,
     "user": {
      "displayName": "André Cunha",
      "userId": "00203721021871530789"
     },
     "user_tz": -60
    },
    "id": "lyMsZjgUFM3k",
    "outputId": "3d23b0a9-efdf-4ee0-e4e5-b56c430e5715"
   },
   "outputs": [
    {
     "name": "stdout",
     "output_type": "stream",
     "text": [
      "Results summary\n",
      "Results in my_first_keras_tuner/untitled_project\n",
      "Showing 10 best trials\n",
      "Objective(name=\"val_loss\", direction=\"min\")\n",
      "\n",
      "Trial 5 summary\n",
      "Hyperparameters:\n",
      "conv_1_filter: 64\n",
      "conv_2_filter: 112\n",
      "conv_3_filter: 96\n",
      "conv_4_filter: 496\n",
      "units: 192\n",
      "dropout_rate: 0.2\n",
      "kernel_regularizer: 1e-06\n",
      "bias_regularizer: 1e-06\n",
      "learning_rate: 0.01\n",
      "Score: 0.6529542207717896\n",
      "\n",
      "Trial 2 summary\n",
      "Hyperparameters:\n",
      "conv_1_filter: 48\n",
      "conv_2_filter: 64\n",
      "conv_3_filter: 112\n",
      "conv_4_filter: 432\n",
      "units: 240\n",
      "dropout_rate: 0.2\n",
      "kernel_regularizer: 1e-06\n",
      "bias_regularizer: 1e-06\n",
      "learning_rate: 0.01\n",
      "Score: 0.6887540817260742\n",
      "\n",
      "Trial 6 summary\n",
      "Hyperparameters:\n",
      "conv_1_filter: 64\n",
      "conv_2_filter: 80\n",
      "conv_3_filter: 128\n",
      "conv_4_filter: 160\n",
      "units: 176\n",
      "dropout_rate: 0.2\n",
      "kernel_regularizer: 1e-05\n",
      "bias_regularizer: 1e-05\n",
      "learning_rate: 0.01\n",
      "Score: 0.7034980058670044\n",
      "\n",
      "Trial 7 summary\n",
      "Hyperparameters:\n",
      "conv_1_filter: 32\n",
      "conv_2_filter: 112\n",
      "conv_3_filter: 176\n",
      "conv_4_filter: 304\n",
      "units: 176\n",
      "dropout_rate: 0.2\n",
      "kernel_regularizer: 1e-05\n",
      "bias_regularizer: 1e-06\n",
      "learning_rate: 0.01\n",
      "Score: 0.7855786681175232\n",
      "\n",
      "Trial 3 summary\n",
      "Hyperparameters:\n",
      "conv_1_filter: 32\n",
      "conv_2_filter: 112\n",
      "conv_3_filter: 176\n",
      "conv_4_filter: 496\n",
      "units: 128\n",
      "dropout_rate: 0.2\n",
      "kernel_regularizer: 1e-06\n",
      "bias_regularizer: 0.0001\n",
      "learning_rate: 0.01\n",
      "Score: 0.8726662397384644\n",
      "\n",
      "Trial 0 summary\n",
      "Hyperparameters:\n",
      "conv_1_filter: 32\n",
      "conv_2_filter: 64\n",
      "conv_3_filter: 112\n",
      "conv_4_filter: 272\n",
      "units: 176\n",
      "dropout_rate: 0.5\n",
      "kernel_regularizer: 0.0001\n",
      "bias_regularizer: 0.0001\n",
      "learning_rate: 0.01\n",
      "Score: 1.3914625644683838\n",
      "\n",
      "Trial 4 summary\n",
      "Hyperparameters:\n",
      "conv_1_filter: 64\n",
      "conv_2_filter: 112\n",
      "conv_3_filter: 160\n",
      "conv_4_filter: 160\n",
      "units: 240\n",
      "dropout_rate: 0.5\n",
      "kernel_regularizer: 1e-05\n",
      "bias_regularizer: 1e-06\n",
      "learning_rate: 0.01\n",
      "Score: 1.3923088312149048\n",
      "\n",
      "Trial 1 summary\n",
      "Hyperparameters:\n",
      "conv_1_filter: 48\n",
      "conv_2_filter: 64\n",
      "conv_3_filter: 208\n",
      "conv_4_filter: 368\n",
      "units: 160\n",
      "dropout_rate: 0.5\n",
      "kernel_regularizer: 1e-05\n",
      "bias_regularizer: 1e-06\n",
      "learning_rate: 0.01\n",
      "Score: 1.3935950994491577\n",
      "None\n"
     ]
    }
   ],
   "source": [
    "tuner_results = tuner_v1.results_summary()\n",
    "\n",
    "print(tuner_results)"
   ]
  },
  {
   "cell_type": "markdown",
   "id": "fUYwwAnvfPki",
   "metadata": {
    "id": "fUYwwAnvfPki"
   },
   "source": [
    "In the code above it was displayed the results of the best trials with their respective hyperparetes runnned.\n",
    "\n",
    "Based on the validadtion loss, the Keras tuner found that the best set of hyperparameters were the inde used in `Trial 5` with a validation loss of **0.6530**, and it used the following hyperparameters:  \n",
    "\n",
    "*   *conv_1_filter*=**64**;\n",
    "*   *conv_2_filter*=**112**;\n",
    "*  *conv_3_filter*=**96**;\n",
    "* *conv_4_filter*=**496**;\n",
    "*  *units*=**192**;\n",
    "* *dropout_rate*=**0.2**;\n",
    "* *kernel_regularizer*=**1e-06**;\n",
    "* *bias_regularizer*=**1e-06**;\n",
    "* and *learning_rate*=**0.01**.\n",
    "\n",
    "Using the best performing set of hyperparamerter showed above, we are now going to train our Model V1 for 10 epochs.\n"
   ]
  },
  {
   "cell_type": "code",
   "execution_count": 17,
   "id": "4YDMZIpME2LA",
   "metadata": {
    "colab": {
     "base_uri": "https://localhost:8080/"
    },
    "executionInfo": {
     "elapsed": 191657,
     "status": "ok",
     "timestamp": 1680990256948,
     "user": {
      "displayName": "André Cunha",
      "userId": "00203721021871530789"
     },
     "user_tz": -60
    },
    "id": "4YDMZIpME2LA",
    "outputId": "fdf1499d-7b51-4882-c325-170fa6780cb4"
   },
   "outputs": [
    {
     "name": "stdout",
     "output_type": "stream",
     "text": [
      "Epoch 1/10\n",
      "43/43 [==============================] - 21s 368ms/step - loss: 0.6950 - accuracy: 0.6947 - val_loss: 0.8850 - val_accuracy: 0.5341\n",
      "Epoch 2/10\n",
      "43/43 [==============================] - 18s 371ms/step - loss: 0.9679 - accuracy: 0.6636 - val_loss: 0.7950 - val_accuracy: 0.5282\n",
      "Epoch 3/10\n",
      "43/43 [==============================] - 19s 382ms/step - loss: 0.6421 - accuracy: 0.7051 - val_loss: 0.7018 - val_accuracy: 0.7018\n",
      "Epoch 4/10\n",
      "43/43 [==============================] - 18s 368ms/step - loss: 0.6488 - accuracy: 0.7066 - val_loss: 1.7998 - val_accuracy: 0.4184\n",
      "Epoch 5/10\n",
      "43/43 [==============================] - 18s 365ms/step - loss: 0.7280 - accuracy: 0.6980 - val_loss: 0.8666 - val_accuracy: 0.5371\n",
      "Epoch 6/10\n",
      "43/43 [==============================] - 19s 372ms/step - loss: 0.6819 - accuracy: 0.6954 - val_loss: 0.6642 - val_accuracy: 0.7359\n",
      "Epoch 7/10\n",
      "43/43 [==============================] - 18s 372ms/step - loss: 0.6861 - accuracy: 0.7151 - val_loss: 1.0067 - val_accuracy: 0.6380\n",
      "Epoch 8/10\n",
      "43/43 [==============================] - 18s 369ms/step - loss: 0.6402 - accuracy: 0.7162 - val_loss: 0.5676 - val_accuracy: 0.7389\n",
      "Epoch 9/10\n",
      "43/43 [==============================] - 18s 383ms/step - loss: 0.6057 - accuracy: 0.7329 - val_loss: 0.6014 - val_accuracy: 0.7092\n",
      "Epoch 10/10\n",
      "43/43 [==============================] - 20s 393ms/step - loss: 0.5692 - accuracy: 0.7329 - val_loss: 0.5431 - val_accuracy: 0.7537\n"
     ]
    }
   ],
   "source": [
    "# Train the model with the best hyperparameters\n",
    "best_model_v1_hp = tuner_v1.get_best_models(num_models=1)[0]\n",
    "best_hyperparameters_v1 = tuner_v1.get_best_hyperparameters(num_trials=1)[0]\n",
    "\n",
    "history_best_model_v1_hp = best_model_v1_hp.fit(ds_train, epochs=10, validation_data= ds_val)"
   ]
  },
  {
   "cell_type": "markdown",
   "id": "5tDkQkwAJzb7",
   "metadata": {
    "id": "5tDkQkwAJzb7"
   },
   "source": [
    "### **Compare ``best_modelv1_hp`` with the original model**\n",
    "\n",
    "In order to compare the results of the Model V1, before and after hypertuning we are going to run the original model without the aid of the tuner.\n"
   ]
  },
  {
   "cell_type": "code",
   "execution_count": 18,
   "id": "9IKPrmSdJOm8",
   "metadata": {
    "executionInfo": {
     "elapsed": 7,
     "status": "ok",
     "timestamp": 1680990256949,
     "user": {
      "displayName": "André Cunha",
      "userId": "00203721021871530789"
     },
     "user_tz": -60
    },
    "id": "9IKPrmSdJOm8"
   },
   "outputs": [],
   "source": [
    "compile_model(modelv1)"
   ]
  },
  {
   "cell_type": "code",
   "execution_count": 19,
   "id": "SXiOeYuMKw5C",
   "metadata": {
    "colab": {
     "base_uri": "https://localhost:8080/"
    },
    "executionInfo": {
     "elapsed": 189922,
     "status": "ok",
     "timestamp": 1680990446865,
     "user": {
      "displayName": "André Cunha",
      "userId": "00203721021871530789"
     },
     "user_tz": -60
    },
    "id": "SXiOeYuMKw5C",
    "outputId": "009125cf-6403-4667-818a-4c3ddf77e23c"
   },
   "outputs": [
    {
     "name": "stdout",
     "output_type": "stream",
     "text": [
      "Epoch 1/10\n",
      "43/43 [==============================] - 20s 371ms/step - loss: 1.3426 - accuracy: 0.3764 - val_loss: 1.1893 - val_accuracy: 0.4718\n",
      "Epoch 2/10\n",
      "43/43 [==============================] - 20s 389ms/step - loss: 1.1220 - accuracy: 0.5120 - val_loss: 1.2437 - val_accuracy: 0.4006\n",
      "Epoch 3/10\n",
      "43/43 [==============================] - 18s 376ms/step - loss: 0.9106 - accuracy: 0.6228 - val_loss: 1.1599 - val_accuracy: 0.4941\n",
      "Epoch 4/10\n",
      "43/43 [==============================] - 19s 391ms/step - loss: 0.7667 - accuracy: 0.6732 - val_loss: 0.7497 - val_accuracy: 0.6513\n",
      "Epoch 5/10\n",
      "43/43 [==============================] - 17s 352ms/step - loss: 0.6109 - accuracy: 0.7573 - val_loss: 0.5466 - val_accuracy: 0.7834\n",
      "Epoch 6/10\n",
      "43/43 [==============================] - 17s 359ms/step - loss: 0.5557 - accuracy: 0.7814 - val_loss: 0.5345 - val_accuracy: 0.7611\n",
      "Epoch 7/10\n",
      "43/43 [==============================] - 19s 387ms/step - loss: 0.5076 - accuracy: 0.7984 - val_loss: 0.5392 - val_accuracy: 0.7938\n",
      "Epoch 8/10\n",
      "43/43 [==============================] - 17s 360ms/step - loss: 0.4702 - accuracy: 0.8073 - val_loss: 0.4806 - val_accuracy: 0.8056\n",
      "Epoch 9/10\n",
      "43/43 [==============================] - 17s 362ms/step - loss: 0.4440 - accuracy: 0.8296 - val_loss: 0.6175 - val_accuracy: 0.7359\n",
      "Epoch 10/10\n",
      "43/43 [==============================] - 19s 393ms/step - loss: 0.4067 - accuracy: 0.8418 - val_loss: 0.4460 - val_accuracy: 0.8353\n"
     ]
    }
   ],
   "source": [
    "history_modelv1 = modelv1.fit(ds_train, epochs=10, validation_data= ds_val)"
   ]
  },
  {
   "cell_type": "markdown",
   "id": "C7HTnApommO-",
   "metadata": {
    "id": "C7HTnApommO-"
   },
   "source": [
    "For a better comparison of the metrics between the original and hypertuned models of V1, we are going to plot the previously used loss and accuracy curves.\n",
    "\n",
    "\n"
   ]
  },
  {
   "cell_type": "markdown",
   "id": "QYz-sQKGKrEa",
   "metadata": {
    "id": "QYz-sQKGKrEa"
   },
   "source": [
    "#### **Original model**"
   ]
  },
  {
   "cell_type": "code",
   "execution_count": 20,
   "id": "tn_f2letK9XV",
   "metadata": {
    "colab": {
     "base_uri": "https://localhost:8080/",
     "height": 505
    },
    "executionInfo": {
     "elapsed": 1098,
     "status": "ok",
     "timestamp": 1680990447959,
     "user": {
      "displayName": "André Cunha",
      "userId": "00203721021871530789"
     },
     "user_tz": -60
    },
    "id": "tn_f2letK9XV",
    "outputId": "2652c49d-e7ce-4ec3-c46b-55e3ee9cc76a"
   },
   "outputs": [
    {
     "data": {
      "image/png": "[encoded data removed]",
      "text/plain": [
       "<Figure size 1600x400 with 2 Axes>"
      ]
     },
     "metadata": {},
     "output_type": "display_data"
    }
   ],
   "source": [
    "plot_training_history(history_modelv1)"
   ]
  },
  {
   "cell_type": "markdown",
   "id": "xaT8dGRELEGd",
   "metadata": {
    "id": "xaT8dGRELEGd"
   },
   "source": [
    "#### **Hyperparameter model**"
   ]
  },
  {
   "cell_type": "code",
   "execution_count": 21,
   "id": "buZgA4TmLGS9",
   "metadata": {
    "colab": {
     "base_uri": "https://localhost:8080/",
     "height": 505
    },
    "executionInfo": {
     "elapsed": 486,
     "status": "ok",
     "timestamp": 1680990448440,
     "user": {
      "displayName": "André Cunha",
      "userId": "00203721021871530789"
     },
     "user_tz": -60
    },
    "id": "buZgA4TmLGS9",
    "outputId": "4ab8984f-89a4-4dcc-e3d2-29043895b5ef"
   },
   "outputs": [
    {
     "data": {
      "image/png": "[encoded data removed]",
      "text/plain": [
       "<Figure size 1600x400 with 2 Axes>"
      ]
     },
     "metadata": {},
     "output_type": "display_data"
    }
   ],
   "source": [
    "plot_training_history(history_best_model_v1_hp)"
   ]
  },
  {
   "cell_type": "markdown",
   "id": "i5rmiqKth5Pf",
   "metadata": {
    "id": "i5rmiqKth5Pf"
   },
   "source": [
    "The *original model* has an ``accuracy`` value of 0.8418 and a ``validation accuracy`` value of 0.8353, while the *hyper tuned* model has an ``accuracy`` value of 0.7329 and a ``validation accuracy`` value of 0.7537. These values mean that our hyper tuned model did not performed better that our original model. This may have happen due to the hyper parameters be overfitting the data or not be the most suited for our model.\n",
    "\n",
    "\n",
    "Nevertheless, the results achieved with the original model are quite satisfying seeing that the values are quite high, while close to each other, this is, it does not overfit and has the ability to adapt to new and unseen data. Overall, it is important to notice that this doesn't mean that any hypertuning of the original model would fail, but our specific hypertunning process was not the most suitable for this problem. If given the chance, we would have tried other values and hypothesis."
   ]
  },
  {
   "cell_type": "markdown",
   "id": "wiU6cZGF8oz4",
   "metadata": {
    "id": "wiU6cZGF8oz4"
   },
   "source": [
    "## **Model V1.8**"
   ]
  },
  {
   "cell_type": "markdown",
   "id": "2CLr7FxZrAGc",
   "metadata": {
    "id": "2CLr7FxZrAGc"
   },
   "source": [
    "For the HyperTunning of model V1.8, we are going to follow the same steps as the previous model. Starting by defining the Model V1.8 ready to be hypertuned."
   ]
  },
  {
   "cell_type": "code",
   "execution_count": 22,
   "id": "EiUw-dkEt0xS",
   "metadata": {
    "executionInfo": {
     "elapsed": 20,
     "status": "ok",
     "timestamp": 1680990448441,
     "user": {
      "displayName": "André Cunha",
      "userId": "00203721021871530789"
     },
     "user_tz": -60
    },
    "id": "EiUw-dkEt0xS"
   },
   "outputs": [],
   "source": [
    "def build_model_1_8(hp):\n",
    "  model = Sequential([\n",
    "    layers.Input((input_shape[1:])),\n",
    "    preprocessing,\n",
    "\n",
    "    layers.Conv2D(filters=hp.Int('conv_1_filter', min_value=32, max_value=128, step=16)\n",
    "                    ,kernel_size=(3, 3), activation='relu'),\n",
    "\n",
    "    layers.MaxPooling2D(pool_size=(2, 2)),\n",
    "\n",
    "    layers.Conv2D(filters=hp.Int('conv_2_filter', min_value=32, max_value=128, step=16)\n",
    "                    ,kernel_size=(3, 3), activation='relu'),\n",
    "    layers.MaxPooling2D(pool_size=(2, 2)),\n",
    "\n",
    "    layers.Conv2D(filters=128, kernel_size=(3, 3), activation='relu'),\n",
    "    layers.Conv2D(filters=128, kernel_size=(3, 3), activation='relu'),\n",
    "    layers.Conv2D(filters=128, kernel_size=(3, 3), activation='relu'),\n",
    "    layers.MaxPooling2D(pool_size=(2, 2)),\n",
    "\n",
    "    layers.Flatten(),\n",
    "\n",
    "    layers.Dense(units=hp.Int('units', min_value=128, max_value=256, step=16), \n",
    "                 activation='relu', \n",
    "                 kernel_regularizer=regularizers.L2(1e-5),\n",
    "                 bias_regularizer=regularizers.L2(1e-4)),\n",
    "\n",
    "    layers.Dropout(hp.Choice('dropout_rate', values=[0.2,0.5])), #    layers.Dropout(0.5),\n",
    "\n",
    "\n",
    "   \n",
    "    layers.Dense(units=4, activation='softmax', kernel_regularizer=regularizers.L2(hp.Choice('kernel_regularizer', values=[1e-4, 1e-5, 1e-6])),\n",
    "                               bias_regularizer=regularizers.L2(hp.Choice('bias_regularizer', values=[1e-4, 1e-5, 1e-6])))\n",
    "])\n",
    "\n",
    "  model.compile( loss='categorical_crossentropy',\n",
    "                optimizer= optimizers.RMSprop(hp.Choice('learning_rate', values=[1e-2, 1e-3])), \n",
    "                metrics= metrics.CategoricalAccuracy(name='accuracy'))\n",
    "\n",
    "  return model"
   ]
  },
  {
   "cell_type": "markdown",
   "id": "HuR2rS4zs6A7",
   "metadata": {
    "id": "HuR2rS4zs6A7"
   },
   "source": [
    "Like before, to set our hyperparamenter seacher for Model V1.8, we will define a tuner that executes a random search from the kerastuner library on `build_model_1_8`. We kept the same parameters of the tuner as before.\n",
    "\n",
    "Our keras tuner performed a random search over the following hyperparameters for the model V1.8:\n",
    "\n",
    "> *   For `conv_1_filter` the number of filters in the first convolutional layer with the values ranging from 32 to 128 with step size 16, this is, the absolute value that a hyperparameter varies during the search process.\n",
    "\n",
    ">*   For `conv_2_filter` the number of filters in the second convolutional layer that is used in a block with the values ranging from 32 to 128 with step size 16.\n",
    "\n",
    ">* The number `units`  in the dense layer with values ranging from 128 to 256 with step size 16.\n",
    "\n",
    ">* The `dropout_rate`, which corresponds to the probability that a given neuron in our model will be randomly \"dropped out\" during training, testing it with 0.2 or 0.5;\n",
    "\n",
    ">* For `kernel_regularizer`, seeing that we are using a L2 regularization,   the weight given to the sum of the squares of the weights in the loss function, testing this paramenter with 1e-4, 1e-5 and 1e-6;\n",
    "\n",
    ">* The `bias_regularizer`, also using a L2 regularization,  the magnitude of the  penalty that is applied to the biases of the model during training testing this paramenter with 1e-4, 1e-5 and 1e-6;\n",
    "\n",
    ">* The `learning_rate` for the RMSprop optimizer testing it with 0.01 and 0.001.\n",
    "\n"
   ]
  },
  {
   "cell_type": "code",
   "execution_count": 23,
   "id": "EiFNqXUIwOgO",
   "metadata": {
    "executionInfo": {
     "elapsed": 20,
     "status": "ok",
     "timestamp": 1680990448443,
     "user": {
      "displayName": "André Cunha",
      "userId": "00203721021871530789"
     },
     "user_tz": -60
    },
    "id": "EiFNqXUIwOgO"
   },
   "outputs": [],
   "source": [
    "tuner_v1_8 = kt.RandomSearch(build_model_1_8,\n",
    "                          objective='val_loss', \n",
    "                          directory=\"my_first_keras_tuner\",\n",
    "                          overwrite=True,                        \n",
    "                          executions_per_trial=1, \n",
    "                          max_trials=8,\n",
    "                          seed=seed)"
   ]
  },
  {
   "cell_type": "markdown",
   "id": "J1_2LP5TwYza",
   "metadata": {
    "id": "J1_2LP5TwYza"
   },
   "source": [
    "With the tuner ready to be used on Model V1.8, we will conduct the search by defining it to train and validate for 10 epochs in order to find the best set of hyperparameters."
   ]
  },
  {
   "cell_type": "code",
   "execution_count": 24,
   "id": "5srXri5qwfx_",
   "metadata": {
    "colab": {
     "base_uri": "https://localhost:8080/"
    },
    "executionInfo": {
     "elapsed": 1607253,
     "status": "ok",
     "timestamp": 1680992055677,
     "user": {
      "displayName": "André Cunha",
      "userId": "00203721021871530789"
     },
     "user_tz": -60
    },
    "id": "5srXri5qwfx_",
    "outputId": "43b2f026-5697-4933-e9a9-3591eef04a0b"
   },
   "outputs": [
    {
     "name": "stdout",
     "output_type": "stream",
     "text": [
      "Trial 8 Complete [00h 03m 13s]\n",
      "val_loss: 0.5675259828567505\n",
      "\n",
      "Best val_loss So Far: 0.4704165458679199\n",
      "Total elapsed time: 00h 26m 47s\n"
     ]
    }
   ],
   "source": [
    "tuner_v1_8.search(ds_train, epochs=10, validation_data = ds_val)"
   ]
  },
  {
   "cell_type": "code",
   "execution_count": 25,
   "id": "C316TzKsMQWR",
   "metadata": {
    "colab": {
     "base_uri": "https://localhost:8080/"
    },
    "executionInfo": {
     "elapsed": 9,
     "status": "ok",
     "timestamp": 1680992055678,
     "user": {
      "displayName": "André Cunha",
      "userId": "00203721021871530789"
     },
     "user_tz": -60
    },
    "id": "C316TzKsMQWR",
    "outputId": "b8e9725c-0033-4e54-c73f-704c6f843ada"
   },
   "outputs": [
    {
     "name": "stdout",
     "output_type": "stream",
     "text": [
      "Results summary\n",
      "Results in my_first_keras_tuner/untitled_project\n",
      "Showing 10 best trials\n",
      "Objective(name=\"val_loss\", direction=\"min\")\n",
      "\n",
      "Trial 4 summary\n",
      "Hyperparameters:\n",
      "conv_1_filter: 80\n",
      "conv_2_filter: 32\n",
      "units: 144\n",
      "dropout_rate: 0.2\n",
      "kernel_regularizer: 0.0001\n",
      "bias_regularizer: 1e-05\n",
      "learning_rate: 0.001\n",
      "Score: 0.4704165458679199\n",
      "\n",
      "Trial 6 summary\n",
      "Hyperparameters:\n",
      "conv_1_filter: 96\n",
      "conv_2_filter: 112\n",
      "units: 128\n",
      "dropout_rate: 0.2\n",
      "kernel_regularizer: 1e-06\n",
      "bias_regularizer: 1e-06\n",
      "learning_rate: 0.001\n",
      "Score: 0.5422559976577759\n",
      "\n",
      "Trial 7 summary\n",
      "Hyperparameters:\n",
      "conv_1_filter: 96\n",
      "conv_2_filter: 80\n",
      "units: 224\n",
      "dropout_rate: 0.5\n",
      "kernel_regularizer: 1e-06\n",
      "bias_regularizer: 1e-06\n",
      "learning_rate: 0.001\n",
      "Score: 0.5675259828567505\n",
      "\n",
      "Trial 0 summary\n",
      "Hyperparameters:\n",
      "conv_1_filter: 112\n",
      "conv_2_filter: 64\n",
      "units: 192\n",
      "dropout_rate: 0.5\n",
      "kernel_regularizer: 0.0001\n",
      "bias_regularizer: 0.0001\n",
      "learning_rate: 0.001\n",
      "Score: 0.6539904475212097\n",
      "\n",
      "Trial 5 summary\n",
      "Hyperparameters:\n",
      "conv_1_filter: 32\n",
      "conv_2_filter: 32\n",
      "units: 128\n",
      "dropout_rate: 0.2\n",
      "kernel_regularizer: 0.0001\n",
      "bias_regularizer: 0.0001\n",
      "learning_rate: 0.01\n",
      "Score: 1.3922077417373657\n",
      "\n",
      "Trial 2 summary\n",
      "Hyperparameters:\n",
      "conv_1_filter: 64\n",
      "conv_2_filter: 80\n",
      "units: 128\n",
      "dropout_rate: 0.5\n",
      "kernel_regularizer: 1e-06\n",
      "bias_regularizer: 1e-05\n",
      "learning_rate: 0.01\n",
      "Score: 1.3940483331680298\n",
      "\n",
      "Trial 1 summary\n",
      "Hyperparameters:\n",
      "conv_1_filter: 64\n",
      "conv_2_filter: 48\n",
      "units: 256\n",
      "dropout_rate: 0.2\n",
      "kernel_regularizer: 1e-05\n",
      "bias_regularizer: 0.0001\n",
      "learning_rate: 0.01\n",
      "Score: 1.3998318910598755\n",
      "\n",
      "Trial 3 summary\n",
      "Hyperparameters:\n",
      "conv_1_filter: 128\n",
      "conv_2_filter: 32\n",
      "units: 240\n",
      "dropout_rate: 0.5\n",
      "kernel_regularizer: 0.0001\n",
      "bias_regularizer: 1e-05\n",
      "learning_rate: 0.01\n",
      "Score: 1.400102972984314\n",
      "None\n"
     ]
    }
   ],
   "source": [
    "tuner_results2 = tuner_v1_8.results_summary()\n",
    "# Printing the tuner results\n",
    "print(tuner_results2)"
   ]
  },
  {
   "cell_type": "markdown",
   "id": "JB8_yWEhwqLd",
   "metadata": {
    "id": "JB8_yWEhwqLd"
   },
   "source": [
    "In the code above it was displayed the results of the best trials with their respective hyperparetes runnned.\n",
    "\n",
    "Based on the validadtion loss, the Keras tuner found that the best set of hyperparameters were the inde used in `Trial 4` with a validation loss of **0.4704**, and it used the following hyperparameters:  \n",
    "\n",
    "*   *conv_1_filter*=**80**;\n",
    "*   *conv_2_filter*=**32**;\n",
    "*  *units*=**144**;\n",
    "* *dropout_rate*=**0.2**;\n",
    "* *kernel_regularizer* = **0.0001**;\n",
    "* *bias_regularizer*=**1e-05**;\n",
    "* and *learning_rate*=**0.001**.\n",
    "\n",
    "Using the best performing set of hyperparamerter showed above, we are now going to train our Model V1.8 for 10 epochs.\n"
   ]
  },
  {
   "cell_type": "code",
   "execution_count": 26,
   "id": "tDEOgetK8Zrt",
   "metadata": {
    "colab": {
     "base_uri": "https://localhost:8080/"
    },
    "executionInfo": {
     "elapsed": 206213,
     "status": "ok",
     "timestamp": 1680992261887,
     "user": {
      "displayName": "André Cunha",
      "userId": "00203721021871530789"
     },
     "user_tz": -60
    },
    "id": "tDEOgetK8Zrt",
    "outputId": "f4b162e2-d367-4a67-dafa-9c9f054e95d0"
   },
   "outputs": [
    {
     "name": "stdout",
     "output_type": "stream",
     "text": [
      "Epoch 1/10\n",
      "43/43 [==============================] - 20s 369ms/step - loss: 0.4544 - accuracy: 0.8214 - val_loss: 0.5983 - val_accuracy: 0.7953\n",
      "Epoch 2/10\n",
      "43/43 [==============================] - 19s 406ms/step - loss: 0.3969 - accuracy: 0.8474 - val_loss: 0.5530 - val_accuracy: 0.7893\n",
      "Epoch 3/10\n",
      "43/43 [==============================] - 20s 399ms/step - loss: 0.3870 - accuracy: 0.8529 - val_loss: 0.4627 - val_accuracy: 0.8190\n",
      "Epoch 4/10\n",
      "43/43 [==============================] - 20s 421ms/step - loss: 0.3462 - accuracy: 0.8688 - val_loss: 0.4084 - val_accuracy: 0.8294\n",
      "Epoch 5/10\n",
      "43/43 [==============================] - 24s 516ms/step - loss: 0.3260 - accuracy: 0.8807 - val_loss: 0.4091 - val_accuracy: 0.8546\n",
      "Epoch 6/10\n",
      "43/43 [==============================] - 17s 365ms/step - loss: 0.2955 - accuracy: 0.8885 - val_loss: 0.4583 - val_accuracy: 0.8338\n",
      "Epoch 7/10\n",
      "43/43 [==============================] - 18s 381ms/step - loss: 0.2684 - accuracy: 0.8951 - val_loss: 0.7507 - val_accuracy: 0.7300\n",
      "Epoch 8/10\n",
      "43/43 [==============================] - 18s 369ms/step - loss: 0.2560 - accuracy: 0.9055 - val_loss: 0.4712 - val_accuracy: 0.8442\n",
      "Epoch 9/10\n",
      "43/43 [==============================] - 25s 538ms/step - loss: 0.2279 - accuracy: 0.9166 - val_loss: 0.4664 - val_accuracy: 0.8576\n",
      "Epoch 10/10\n",
      "43/43 [==============================] - 17s 366ms/step - loss: 0.1979 - accuracy: 0.9289 - val_loss: 0.5866 - val_accuracy: 0.8264\n"
     ]
    }
   ],
   "source": [
    "# Train the model with the best hyperparameters\n",
    "best_model_v1_8_hp = tuner_v1_8.get_best_models(num_models=1)[0]\n",
    "best_hyperparameters_v1_8 = tuner_v1.get_best_hyperparameters(num_trials=1)[0]\n",
    "\n",
    "history_best_model_v1_8_hp = best_model_v1_8_hp.fit(ds_train, epochs=10, validation_data= ds_val)"
   ]
  },
  {
   "cell_type": "markdown",
   "id": "-_SAxOOFMXgX",
   "metadata": {
    "id": "-_SAxOOFMXgX"
   },
   "source": [
    "### **Compare ``best_modelv1_hp`` with the original model**\n",
    "\n",
    "In order to compare the hypertuned and orignal model v1.8 we are going to compile the original."
   ]
  },
  {
   "cell_type": "code",
   "execution_count": 27,
   "id": "3qGlXy99MXgX",
   "metadata": {
    "executionInfo": {
     "elapsed": 31,
     "status": "ok",
     "timestamp": 1680992261888,
     "user": {
      "displayName": "André Cunha",
      "userId": "00203721021871530789"
     },
     "user_tz": -60
    },
    "id": "3qGlXy99MXgX"
   },
   "outputs": [],
   "source": [
    "compile_model(modelv1_8)"
   ]
  },
  {
   "cell_type": "code",
   "execution_count": 28,
   "id": "6FsPrjIXMXgX",
   "metadata": {
    "colab": {
     "base_uri": "https://localhost:8080/"
    },
    "executionInfo": {
     "elapsed": 188034,
     "status": "ok",
     "timestamp": 1680992449893,
     "user": {
      "displayName": "André Cunha",
      "userId": "00203721021871530789"
     },
     "user_tz": -60
    },
    "id": "6FsPrjIXMXgX",
    "outputId": "bf89fa39-f53a-4cba-a156-1219fdd41e96"
   },
   "outputs": [
    {
     "name": "stdout",
     "output_type": "stream",
     "text": [
      "Epoch 1/10\n",
      "43/43 [==============================] - 21s 367ms/step - loss: 1.3984 - accuracy: 0.2808 - val_loss: 1.3874 - val_accuracy: 0.2507\n",
      "Epoch 2/10\n",
      "43/43 [==============================] - 20s 423ms/step - loss: 1.3231 - accuracy: 0.3876 - val_loss: 1.1462 - val_accuracy: 0.5000\n",
      "Epoch 3/10\n",
      "43/43 [==============================] - 20s 414ms/step - loss: 1.1106 - accuracy: 0.4957 - val_loss: 1.0289 - val_accuracy: 0.4985\n",
      "Epoch 4/10\n",
      "43/43 [==============================] - 18s 360ms/step - loss: 1.0022 - accuracy: 0.5291 - val_loss: 0.9749 - val_accuracy: 0.5341\n",
      "Epoch 5/10\n",
      "43/43 [==============================] - 18s 365ms/step - loss: 0.9237 - accuracy: 0.5684 - val_loss: 0.8843 - val_accuracy: 0.5549\n",
      "Epoch 6/10\n",
      "43/43 [==============================] - 18s 366ms/step - loss: 0.8581 - accuracy: 0.6062 - val_loss: 0.6802 - val_accuracy: 0.6914\n",
      "Epoch 7/10\n",
      "43/43 [==============================] - 19s 373ms/step - loss: 0.7533 - accuracy: 0.6595 - val_loss: 0.9304 - val_accuracy: 0.5415\n",
      "Epoch 8/10\n",
      "43/43 [==============================] - 17s 362ms/step - loss: 0.6515 - accuracy: 0.7225 - val_loss: 0.5540 - val_accuracy: 0.7611\n",
      "Epoch 9/10\n",
      "43/43 [==============================] - 17s 363ms/step - loss: 0.5817 - accuracy: 0.7721 - val_loss: 0.5124 - val_accuracy: 0.7908\n",
      "Epoch 10/10\n",
      "43/43 [==============================] - 19s 386ms/step - loss: 0.5520 - accuracy: 0.7810 - val_loss: 0.6691 - val_accuracy: 0.6988\n"
     ]
    }
   ],
   "source": [
    "history_modelv1_8 = modelv1_8.fit(ds_train, epochs=10, validation_data= ds_val)"
   ]
  },
  {
   "cell_type": "markdown",
   "id": "zIKlNWXAyoRU",
   "metadata": {
    "id": "zIKlNWXAyoRU"
   },
   "source": [
    "For a better comparison of the metrics between the original and hypertuned models of V1, we are going to plot the previously used loss and accuracy curves.\n",
    "\n"
   ]
  },
  {
   "cell_type": "markdown",
   "id": "7OZvMbTQMXgX",
   "metadata": {
    "id": "7OZvMbTQMXgX"
   },
   "source": [
    "#### **Original Model**"
   ]
  },
  {
   "cell_type": "code",
   "execution_count": 29,
   "id": "tpK1Dj6aMXgX",
   "metadata": {
    "colab": {
     "base_uri": "https://localhost:8080/",
     "height": 505
    },
    "executionInfo": {
     "elapsed": 659,
     "status": "ok",
     "timestamp": 1680992450520,
     "user": {
      "displayName": "André Cunha",
      "userId": "00203721021871530789"
     },
     "user_tz": -60
    },
    "id": "tpK1Dj6aMXgX",
    "outputId": "3b147830-a1ad-469d-daa2-e064f4701185"
   },
   "outputs": [
    {
     "data": {
      "image/png": "[encoded data removed]",
      "text/plain": [
       "<Figure size 1600x400 with 2 Axes>"
      ]
     },
     "metadata": {},
     "output_type": "display_data"
    }
   ],
   "source": [
    "plot_training_history(history_modelv1_8)"
   ]
  },
  {
   "cell_type": "markdown",
   "id": "8bzhyWQFMXgY",
   "metadata": {
    "id": "8bzhyWQFMXgY"
   },
   "source": [
    "#### **Hyperparameter Model**"
   ]
  },
  {
   "cell_type": "code",
   "execution_count": 30,
   "id": "ZGXuvIvbMXgY",
   "metadata": {
    "colab": {
     "base_uri": "https://localhost:8080/",
     "height": 505
    },
    "executionInfo": {
     "elapsed": 591,
     "status": "ok",
     "timestamp": 1680992451108,
     "user": {
      "displayName": "André Cunha",
      "userId": "00203721021871530789"
     },
     "user_tz": -60
    },
    "id": "ZGXuvIvbMXgY",
    "outputId": "856c73cd-f52d-44e9-d229-3c8c27160add"
   },
   "outputs": [
    {
     "data": {
      "image/png": "[encoded data removed]",
      "text/plain": [
       "<Figure size 1600x400 with 2 Axes>"
      ]
     },
     "metadata": {},
     "output_type": "display_data"
    }
   ],
   "source": [
    "plot_training_history(history_best_model_v1_8_hp)"
   ]
  },
  {
   "cell_type": "markdown",
   "id": "Bd4dRSQ_zBba",
   "metadata": {
    "id": "Bd4dRSQ_zBba"
   },
   "source": [
    "Unlike ``Model V1``, here, our **hyper tuned model** brought better results. The **accuracy** results are way higher with a value of 0.9289 for the **hyper tuned model**, and a value of 0.7810 for the **original model**. The **loss** also decreased significantly, from 0.5520 to 0.1979, which means that the results are being improved. \n",
    "\n",
    "However, one can not ignore the fact that they both present overfitting, which means both models are too tailored for our data."
   ]
  },
  {
   "cell_type": "markdown",
   "id": "jS6cbEM6zCcO",
   "metadata": {
    "id": "jS6cbEM6zCcO"
   },
   "source": [
    "## **Comparing ``Model V1`` and ``Model V1.8`` with ``Hypertuned Model V1`` and ``Hypertuned Model V1.8``** \n",
    "\n",
    "\n",
    "\n"
   ]
  },
  {
   "cell_type": "markdown",
   "id": "nFaKowmQ4stJ",
   "metadata": {
    "id": "nFaKowmQ4stJ"
   },
   "source": [
    "\n",
    "This table provides a comparison of the different models based on their accuracy, validation accuracy, loss, and validation loss:\n",
    "\n",
    "\n",
    "\n",
    "\n",
    "Model Name   |  Accuracy  | Validation Accuracy | Loss     | Validation Loss\n",
    "-------------|------------|---------------------|----------|----------------\n",
    "**Model V1**     | 0.8418     | 0.8353              | 0.4067   | 0.4460 \n",
    "**Model V1 HP**  | 0.7329     | 0.7537              | 0.5692   | 0.5431 \n",
    "**Model V1.8**   | 0.7810     | 0.6988              | 0.5520   | 0.6691\n",
    "**Model V1.8 HP**| 0.9289     | 0.8264              | 0.1979   | 0.5866 \n"
   ]
  },
  {
   "cell_type": "markdown",
   "id": "5RODddp98jGZ",
   "metadata": {
    "id": "5RODddp98jGZ"
   },
   "source": [
    "For us to conclude, which is, our best model, one can not simply look at the accuracy values. By this standard, we would affirm that ``Model V1.8`` was better, with an accuracy of 0.9289, however, like we concluded earlier, this models suffers from severe overfitting.\n",
    "\n",
    "Having this in mind, our choice for best model is ``Model V1``, since it has simultaneously high accuracy, 0.8418 and validation accuracy 0.8353, which are close results. This means that the model is ready to predict accurately on new and unseen data.\n"
   ]
  },
  {
   "cell_type": "markdown",
   "id": "NCGIU0DEa95f",
   "metadata": {
    "id": "NCGIU0DEa95f"
   },
   "source": [
    "# **Performance on test dataset**\n",
    "The final step is to evaluate the performance and generalization ability on the test dataset. Since the results on the previous steps were not very clarifying, we decided to perfom all the 4 best models on the test dataset."
   ]
  },
  {
   "cell_type": "markdown",
   "id": "cHBfm_XcgfRw",
   "metadata": {
    "id": "cHBfm_XcgfRw"
   },
   "source": [
    "## ModelV1\n"
   ]
  },
  {
   "cell_type": "markdown",
   "id": "FrbdQpb4bK13",
   "metadata": {
    "id": "FrbdQpb4bK13"
   },
   "source": [
    "### `` modelv1`` , original model"
   ]
  },
  {
   "cell_type": "code",
   "execution_count": 31,
   "id": "V6FwG-LwizDt",
   "metadata": {
    "colab": {
     "base_uri": "https://localhost:8080/"
    },
    "executionInfo": {
     "elapsed": 4869,
     "status": "ok",
     "timestamp": 1680992455971,
     "user": {
      "displayName": "André Cunha",
      "userId": "00203721021871530789"
     },
     "user_tz": -60
    },
    "id": "V6FwG-LwizDt",
    "outputId": "06df4320-37ec-4be1-f209-ba549ea94ed8"
   },
   "outputs": [
    {
     "name": "stdout",
     "output_type": "stream",
     "text": [
      "14/14 [==============================] - 4s 102ms/step - loss: 0.5771 - accuracy: 0.7855\n",
      "Test loss: 0.5770783424377441\n",
      "Test accuracy: 0.7855450510978699\n"
     ]
    }
   ],
   "source": [
    "scorev1 = modelv1.evaluate(ds_test, verbose=1)\n",
    "print('Test loss:', scorev1[0])\n",
    "print('Test accuracy:', scorev1[1])"
   ]
  },
  {
   "cell_type": "markdown",
   "id": "1OlcMKjRgTGo",
   "metadata": {
    "id": "1OlcMKjRgTGo"
   },
   "source": [
    "### `best_model_v1_hp`, hypertuned model"
   ]
  },
  {
   "cell_type": "code",
   "execution_count": 32,
   "id": "GY02T3VYbhF6",
   "metadata": {
    "colab": {
     "base_uri": "https://localhost:8080/"
    },
    "executionInfo": {
     "elapsed": 4376,
     "status": "ok",
     "timestamp": 1680992460339,
     "user": {
      "displayName": "André Cunha",
      "userId": "00203721021871530789"
     },
     "user_tz": -60
    },
    "id": "GY02T3VYbhF6",
    "outputId": "6530f800-2f93-430d-cda9-c15520610d49"
   },
   "outputs": [
    {
     "name": "stdout",
     "output_type": "stream",
     "text": [
      "14/14 [==============================] - 4s 115ms/step - loss: 0.6313 - accuracy: 0.7476\n",
      "Test loss: 0.6313177943229675\n",
      "Test accuracy: 0.7476303577423096\n"
     ]
    }
   ],
   "source": [
    "scorev1_hp = best_model_v1_hp.evaluate(ds_test, verbose=1)\n",
    "print('Test loss:', scorev1_hp[0])\n",
    "print('Test accuracy:', scorev1_hp[1])"
   ]
  },
  {
   "cell_type": "markdown",
   "id": "TN_Bz3L4g_1O",
   "metadata": {
    "id": "TN_Bz3L4g_1O"
   },
   "source": [
    "## ModelV1.8\n"
   ]
  },
  {
   "cell_type": "markdown",
   "id": "Dtw3geQBg_1V",
   "metadata": {
    "id": "Dtw3geQBg_1V"
   },
   "source": [
    "\n",
    "\n",
    "### `` modelv1_8`` , original model"
   ]
  },
  {
   "cell_type": "code",
   "execution_count": 33,
   "id": "UdWhkdOug_1W",
   "metadata": {
    "colab": {
     "base_uri": "https://localhost:8080/"
    },
    "executionInfo": {
     "elapsed": 5424,
     "status": "ok",
     "timestamp": 1680992465750,
     "user": {
      "displayName": "André Cunha",
      "userId": "00203721021871530789"
     },
     "user_tz": -60
    },
    "id": "UdWhkdOug_1W",
    "outputId": "95985b1a-601f-45ee-bb3f-470a20ec17e4"
   },
   "outputs": [
    {
     "name": "stdout",
     "output_type": "stream",
     "text": [
      "14/14 [==============================] - 5s 103ms/step - loss: 0.7370 - accuracy: 0.6848\n",
      "Test loss: 0.7370048761367798\n",
      "Test accuracy: 0.6848341226577759\n"
     ]
    }
   ],
   "source": [
    "scorev1_8 = modelv1_8.evaluate(ds_test, verbose=1)\n",
    "print('Test loss:', scorev1_8[0])\n",
    "print('Test accuracy:', scorev1_8[1])"
   ]
  },
  {
   "cell_type": "markdown",
   "id": "iyDlZfYhg_1W",
   "metadata": {
    "id": "iyDlZfYhg_1W"
   },
   "source": [
    "### `best_model_v1_8_hp`, hypertuned model"
   ]
  },
  {
   "cell_type": "code",
   "execution_count": 34,
   "id": "C6HKRq-Cg_1W",
   "metadata": {
    "colab": {
     "base_uri": "https://localhost:8080/"
    },
    "executionInfo": {
     "elapsed": 4654,
     "status": "ok",
     "timestamp": 1680992470399,
     "user": {
      "displayName": "André Cunha",
      "userId": "00203721021871530789"
     },
     "user_tz": -60
    },
    "id": "C6HKRq-Cg_1W",
    "outputId": "479b97ce-e9a2-43fe-9ab9-b2b09b3437ad"
   },
   "outputs": [
    {
     "name": "stdout",
     "output_type": "stream",
     "text": [
      "14/14 [==============================] - 4s 108ms/step - loss: 0.8002 - accuracy: 0.8081\n",
      "Test loss: 0.8001816868782043\n",
      "Test accuracy: 0.8080568909645081\n"
     ]
    }
   ],
   "source": [
    "scorev1_8_hp = best_model_v1_8_hp.evaluate(ds_test, verbose=1)\n",
    "print('Test loss:', scorev1_8_hp[0])\n",
    "print('Test accuracy:', scorev1_8_hp[1])"
   ]
  },
  {
   "cell_type": "markdown",
   "id": "hmxQs8FDhiPB",
   "metadata": {
    "id": "hmxQs8FDhiPB"
   },
   "source": [
    "# **Conclusion**"
   ]
  },
  {
   "cell_type": "markdown",
   "id": "Nd9uHxML6Nh1",
   "metadata": {
    "id": "Nd9uHxML6Nh1"
   },
   "source": [
    "The following table presents the scores of the previous models in the test dataset:\n",
    "\n",
    "Model Name   |  Test Accuracy  | Test Loss | \n",
    "-------------|-----------------|------|\n",
    "**Model V1**     | 0.7855     | 0.5771                \n",
    "**Model V1 HP**  | 0.7476     | 0.6313                 \n",
    "**Model V1.8**   | 0.6848     | 0.7370                \n",
    "**Model V1.8 HP**| 0.8081     | 0.8002          \n"
   ]
  },
  {
   "cell_type": "markdown",
   "id": "kIPTf9XU__xO",
   "metadata": {
    "id": "kIPTf9XU__xO"
   },
   "source": [
    "Regarding the scores on the test dataset, it is important to look at both metrics, test accuracy and test loss.\n",
    "Like mentioned in the above comparison analysis, ``Model V1.8 HP`` presents higher accuracy that ``Model V1``, but, due to the loss being higher, in fact, the higher of them all, these results strengthen the fact that ``Model V1`` is our best model."
   ]
  },
  {
   "cell_type": "code",
   "execution_count": null,
   "id": "xIbQOTs_Az7M",
   "metadata": {
    "id": "xIbQOTs_Az7M"
   },
   "outputs": [],
   "source": []
  }
 ],
 "metadata": {
  "accelerator": "GPU",
  "colab": {
   "collapsed_sections": [
    "nD1bjpaaKFL2",
    "0e80b093-d154-4abe-a85c-c45680611c13",
    "lq9FT_NgLP7i",
    "Iy_FvbRnLj4g",
    "GA91bjEELpcK"
   ],
   "provenance": []
  },
  "gpuClass": "standard",
  "kernelspec": {
   "display_name": "Python 3 (ipykernel)",
   "language": "python",
   "name": "python3"
  },
  "language_info": {
   "codemirror_mode": {
    "name": "ipython",
    "version": 3
   },
   "file_extension": ".py",
   "mimetype": "text/x-python",
   "name": "python",
   "nbconvert_exporter": "python",
   "pygments_lexer": "ipython3",
   "version": "3.9.13"
  }
 },
 "nbformat": 4,
 "nbformat_minor": 5
}
