{
  "cells": [
    {
      "cell_type": "markdown",
      "metadata": {
        "id": "klhahMhYD-0A"
      },
      "source": [
        "# **Deep Learning Group Project: Eye Disease Classification**\n",
        "**Master's  Degree Program in Data Science and Advanced Analytics, with a specialization in Data Science (A.Y. 2022/2023)**<br/>\n",
        "**NOVA IMS**<br/>\n",
        "\n",
        "\n",
        "### **Group Information**\n",
        "\n",
        "*   André Cunha, 20191224 - r20191224@novaims.unl.pt\n",
        "*   Catarina Duarte, 20191211 - r20191211@novaims.unl.pt\n",
        "*   Cláudia Rocha, 20191249 - r20191249@novaims.unl.pt\n",
        "*   Dinis Melo, 20191190 - r20191190@novaims.unl.pt\n",
        "*   Susana Dias, 20220198 - 20220198@novaims.unl.pt\n",
        "\n",
        "\n",
        "### **Data Source** \n",
        "\n",
        "Kaggle dataset: https://www.kaggle.com/datasets/gunavenkatdoddi/eye-diseases-classification\n",
        "\n",
        "Link to the prepared dataset: https://drive.google.com/drive/folders/1HEti1Qv_-iXiOf2zp2amG8XFgk-HPuLj?usp=sharing\n",
        "\n",
        "### **Main Steps** \n",
        "\n",
        "\n",
        "*  Run ResNet50, ResNet101, ResNet152, VGG16 and VGG19 with Transfer Learning\n",
        "*  Compare the results with the handcrafted models and our best model from the previous notebooks\n",
        "* Conclusion on the benefits of Transfer Learning\n",
        "\n",
        "\n",
        "\n"
      ],
      "id": "klhahMhYD-0A"
    },
    {
      "cell_type": "markdown",
      "metadata": {
        "id": "ZtUbLqd-HUdL"
      },
      "source": [
        "# **Import the Needed Libraries**"
      ],
      "id": "ZtUbLqd-HUdL"
    },
    {
      "cell_type": "code",
      "execution_count": null,
      "metadata": {
        "id": "vqXQJtHZ7mV1",
        "colab": {
          "base_uri": "https://localhost:8080/"
        },
        "outputId": "35fc7d6d-e3b8-4194-bbd6-be0e7d3351cf"
      },
      "outputs": [
        {
          "output_type": "stream",
          "name": "stdout",
          "text": [
            "\u001b[?25l     \u001b[90m━━━━━━━━━━━━━━━━━━━━━━━━━━━━━━━━━━━━━━━━\u001b[0m \u001b[32m0.0/172.2 KB\u001b[0m \u001b[31m?\u001b[0m eta \u001b[36m-:--:--\u001b[0m\r\u001b[2K     \u001b[91m━━━━━━━━━━━━━━━━━━━━━━━━━━━━━━━━━━━━━\u001b[0m\u001b[90m╺\u001b[0m\u001b[90m━\u001b[0m \u001b[32m163.8/172.2 KB\u001b[0m \u001b[31m9.6 MB/s\u001b[0m eta \u001b[36m0:00:01\u001b[0m\r\u001b[2K     \u001b[90m━━━━━━━━━━━━━━━━━━━━━━━━━━━━━━━━━━━━━━━\u001b[0m \u001b[32m172.2/172.2 KB\u001b[0m \u001b[31m4.0 MB/s\u001b[0m eta \u001b[36m0:00:00\u001b[0m\n",
            "\u001b[?25h"
          ]
        }
      ],
      "source": [
        "!pip install -q -U keras-tuner\n",
        "\n",
        "# Imports\n",
        "import tensorflow as tf\n",
        "from tensorflow.keras import datasets\n",
        "from tensorflow.keras.preprocessing import image_dataset_from_directory\n",
        "from tensorflow.keras.preprocessing.image import ImageDataGenerator\n",
        "from tensorflow.keras import Sequential, layers, initializers, regularizers, optimizers, metrics \n",
        "from keras.models import Model\n",
        "from keras.layers import Dense, Conv2D\n",
        "from tensorflow.keras import regularizers\n",
        "import keras_tuner as kt\n",
        "from tensorflow.keras.initializers import GlorotNormal\n",
        "import keras\n",
        "\n",
        "\n",
        "\n",
        "from sklearn.metrics import confusion_matrix\n",
        "\n",
        "import os\n",
        "import time\n",
        "import shutil\n",
        "import random \n",
        "import zipfile\n",
        "\n",
        "import numpy as np\n",
        "import pandas as pd\n",
        "\n",
        "import seaborn as sns\n",
        "import matplotlib.pyplot as plt\n",
        "import matplotlib.image as mpimg\n",
        "from matplotlib.colors import ListedColormap\n"
      ],
      "id": "vqXQJtHZ7mV1"
    },
    {
      "cell_type": "markdown",
      "metadata": {
        "id": "KJvbvbEfIDLu"
      },
      "source": [
        "# **Needed Code**\n",
        "\n"
      ],
      "id": "KJvbvbEfIDLu"
    },
    {
      "cell_type": "markdown",
      "metadata": {
        "id": "_Jc1FkfmIW5R"
      },
      "source": [
        "We are repeating the same pre-processing steps from previous notebooks with the same seed to perserved the worked on data division. "
      ],
      "id": "_Jc1FkfmIW5R"
    },
    {
      "cell_type": "code",
      "execution_count": null,
      "metadata": {
        "colab": {
          "base_uri": "https://localhost:8080/"
        },
        "id": "1WGLhJgbElrq",
        "outputId": "fe78520c-3199-44b5-83cc-938dd442c0be"
      },
      "outputs": [
        {
          "output_type": "stream",
          "name": "stdout",
          "text": [
            "Mounted at /content/drive\n",
            "File transfer completed in 10.526 seconds\n"
          ]
        }
      ],
      "source": [
        "# Set the machine\n",
        "gdrive = True\n",
        "# Set the connection string\n",
        "path = \"/content/drive/MyDrive/Nova IMS/Projeto DL/\"\n",
        "main_folder, training_folder, testing_folder = \"dataset_prepared/\", \"train/\", \"test/\"\n",
        "# If using Google Drive\n",
        "if gdrive:\n",
        "    # Setup drive\n",
        "    from google.colab import drive\n",
        "    drive.mount('/content/drive')        \n",
        "    # Transfer zip dataset to the current virtual machine\n",
        "    t0 = time.time()\n",
        "    shutil.copyfile(path + 'dataset_prepared.zip', 'dataset_prepared.zip')\n",
        "    # Extract files\n",
        "    zip_ = zipfile.ZipFile('dataset_prepared.zip')\n",
        "    zip_.extractall()\n",
        "    zip_.close()\n",
        "    print(\"File transfer completed in %0.3f seconds\" % (time.time() - t0))\n",
        "    path = \"\""
      ],
      "id": "1WGLhJgbElrq"
    },
    {
      "cell_type": "code",
      "execution_count": null,
      "metadata": {
        "id": "ZDDBe22m7RmV"
      },
      "outputs": [],
      "source": [
        "image_size=(128, 128)\n",
        "crop_to_aspect_ratio=True\n",
        "color_mode='rgb'\n",
        "batch_size=64\n",
        "label_mode=\"categorical\"\n",
        "validation_split=0.2\n",
        "shuffle=True\n",
        "seed=0"
      ],
      "id": "ZDDBe22m7RmV"
    },
    {
      "cell_type": "code",
      "execution_count": null,
      "metadata": {
        "colab": {
          "base_uri": "https://localhost:8080/"
        },
        "id": "si6Ko-Ef7Uk5",
        "outputId": "af04f30c-a6b4-4001-8f88-ac61b4919aef"
      },
      "outputs": [
        {
          "output_type": "stream",
          "name": "stdout",
          "text": [
            "Found 3373 files belonging to 4 classes.\n",
            "Using 2699 files for training.\n",
            "Using 674 files for validation.\n",
            "\n",
            "Object's type:\t <class 'tensorflow.python.data.ops.batch_op._BatchDataset'>\n",
            "Is it a tf.data.Dataset?\t R: True\n",
            "Classes: ['cataract', 'diabetic_retinopathy', 'glaucoma', 'normal']\n"
          ]
        }
      ],
      "source": [
        "\n",
        "# Generate an object of type tf.data.Dataset \n",
        "ds_train, ds_val = image_dataset_from_directory(path + main_folder + training_folder, \n",
        "                                                image_size=image_size,\n",
        "                                                crop_to_aspect_ratio=crop_to_aspect_ratio,\n",
        "                                                color_mode=color_mode,\n",
        "                                                batch_size=batch_size,\n",
        "                                                labels='inferred',\n",
        "                                                label_mode=label_mode,\n",
        "                                                subset='both',\n",
        "                                                validation_split=validation_split, \n",
        "                                                shuffle=shuffle,\n",
        "                                                seed=seed)\n",
        "# Check object properties\n",
        "print(\"\\nObject's type:\\t\", type(ds_train))\n",
        "print(\"Is it a tf.data.Dataset?\\t R:\",isinstance(ds_train, tf.data.Dataset))\n",
        "print(\"Classes:\", ds_train.class_names)"
      ],
      "id": "si6Ko-Ef7Uk5"
    },
    {
      "cell_type": "code",
      "execution_count": null,
      "metadata": {
        "id": "d7-eyTny7Edv"
      },
      "outputs": [],
      "source": [
        "iter_train = iter(ds_train)\n",
        "batch_x_train, batch_y_train = iter_train.next()"
      ],
      "id": "d7-eyTny7Edv"
    },
    {
      "cell_type": "code",
      "execution_count": null,
      "metadata": {
        "colab": {
          "base_uri": "https://localhost:8080/"
        },
        "id": "Bol0AcUv7LTl",
        "outputId": "09c6dfe8-9970-4a5e-efe5-669c7ad925ca"
      },
      "outputs": [
        {
          "output_type": "stream",
          "name": "stdout",
          "text": [
            "Found 844 files belonging to 4 classes.\n"
          ]
        }
      ],
      "source": [
        "ds_test = image_dataset_from_directory(path + main_folder + testing_folder, \n",
        "                                       image_size=image_size,\n",
        "                                       crop_to_aspect_ratio=crop_to_aspect_ratio,\n",
        "                                       color_mode=color_mode,\n",
        "                                       batch_size=batch_size,\n",
        "                                       label_mode=label_mode,                                     \n",
        "                                       shuffle=shuffle,\n",
        "                                       seed=seed)"
      ],
      "id": "Bol0AcUv7LTl"
    },
    {
      "cell_type": "markdown",
      "metadata": {
        "id": "xf-siuUszLoZ"
      },
      "source": [
        "# **Functions**\n",
        "\n",
        "We defined the functions used in the previous notebooks to compile the model and analize the results"
      ],
      "id": "xf-siuUszLoZ"
    },
    {
      "cell_type": "markdown",
      "metadata": {
        "id": "ChzP6q2mK1C5"
      },
      "source": [],
      "id": "ChzP6q2mK1C5"
    },
    {
      "cell_type": "code",
      "execution_count": null,
      "metadata": {
        "id": "dMyWDPmbzLoZ"
      },
      "outputs": [],
      "source": [
        "def compile_model(model, learning_rate = 0.001):\n",
        "    model.compile(loss=\"categorical_crossentropy\",\n",
        "                  optimizer=optimizers.RMSprop(learning_rate=learning_rate),\n",
        "                  metrics=[metrics.CategoricalAccuracy(name='accuracy'),\n",
        "                          ])"
      ],
      "id": "dMyWDPmbzLoZ"
    },
    {
      "cell_type": "code",
      "execution_count": null,
      "metadata": {
        "id": "jgOKu3EdzLoa"
      },
      "outputs": [],
      "source": [
        "def plot_training_history(history):\n",
        "    df_hist = pd.DataFrame.from_dict(history.history)\n",
        "    df_hist[\"Epoch\"] = np.arange(1, len(df_hist) + 1, 1)\n",
        "\n",
        "    fig, axs = plt.subplots(1, 2, figsize=(16, 4))\n",
        "\n",
        "    # Plot loss curves\n",
        "    ax1 = df_hist.plot(x=\"Epoch\", y=['loss', 'val_loss'],\n",
        "                       kind=\"line\", grid=True, legend=True,\n",
        "                       ylabel=\"Categorical cross-entropy\", \n",
        "                       xlabel=\"Epoch\", title=\"Loss curves\",                  \n",
        "                       color=['darkred', 'indianred'], alpha=0.75, fontsize=10, ax=axs[0])\n",
        "    ax1.legend(loc=(0, -0.45), framealpha = 1.0)\n",
        "    ax1.set_ylim([0, 1])\n",
        "\n",
        "    # Plot accuracy curves\n",
        "    ax2 = df_hist.plot(x=\"Epoch\", y=['accuracy', 'val_accuracy'],\n",
        "                       kind=\"line\", grid=True, legend=True,\n",
        "                       ylabel=\"Accuracy\", \n",
        "                       xlabel=\"Epoch\", title=\"Accuracy curves\",                  \n",
        "                       color=['darkblue', 'royalblue','green'], alpha=0.75, fontsize=10, ax=axs[1])\n",
        "    ax2.legend(loc=(0, -0.45), framealpha=1.0)\n",
        "    ax2.set_ylim([0, 1])\n",
        "\n",
        "  "
      ],
      "id": "jgOKu3EdzLoa"
    },
    {
      "cell_type": "markdown",
      "metadata": {
        "id": "0e80b093-d154-4abe-a85c-c45680611c13"
      },
      "source": [
        "# **Data Preprocessing**\n"
      ],
      "id": "0e80b093-d154-4abe-a85c-c45680611c13"
    },
    {
      "cell_type": "code",
      "execution_count": null,
      "metadata": {
        "id": "79ceb9bd-93b7-43a6-ac54-7a05bf98bac5"
      },
      "outputs": [],
      "source": [
        "preprocessing = Sequential([layers.Rescaling(1./255)], name=\"preprocessing\")"
      ],
      "id": "79ceb9bd-93b7-43a6-ac54-7a05bf98bac5"
    },
    {
      "cell_type": "code",
      "execution_count": null,
      "metadata": {
        "id": "9a6b7b60-c494-4307-9b18-4d98487fa313"
      },
      "outputs": [],
      "source": [
        "input_shape = tuple(batch_x_train.shape)\n"
      ],
      "id": "9a6b7b60-c494-4307-9b18-4d98487fa313"
    },
    {
      "cell_type": "markdown",
      "metadata": {
        "id": "keBH64bYoEv3"
      },
      "source": [
        "# **Transfer Learning**\n",
        "\n",
        "Transfer learning is a popular technique that allows leveraging the knowledge gained while solving one problem to help solve another related problem. In transfer learning, a pre-trained model that was previously trained on a large dataset is used as a starting point for a new task, and then fine-tuned on a smaller dataset specific to the new task. \n",
        "\n",
        "This approach saves computational resources and time, as well as improves the performance of the new model, especially when the available data for the new task is limited. By leveraging transfer learning, deep learning models can be built faster and more accurately, which is particularly useful in applications such as object detection, sentiment analysis, and speech recognition, among others.\n",
        "\n",
        "The transfer learning models we chose to perform were ResNet50, ResNet101, ResNet152, VGG16 and VGG19; that we had applied in the previous notebook. In the first step, we used the models with the fixed weights from the ImageNet dataset in ours with 20 epochs. The last step was to define 'trainable=True', unfreezing the basemodel and allowing it to learn our dataset in 10 epochs.\n",
        "\n",
        "\n",
        "References: https://keras.io/guides/transfer_learning/#build-a-model\n",
        "\n",
        "\n"
      ],
      "id": "keBH64bYoEv3"
    },
    {
      "cell_type": "code",
      "source": [
        "pip install keras --upgrade"
      ],
      "metadata": {
        "colab": {
          "base_uri": "https://localhost:8080/"
        },
        "id": "RWYZHXwfEpaX",
        "outputId": "fd314454-b302-4de4-abac-bdc9b89c69e1"
      },
      "id": "RWYZHXwfEpaX",
      "execution_count": null,
      "outputs": [
        {
          "output_type": "stream",
          "name": "stdout",
          "text": [
            "Looking in indexes: https://pypi.org/simple, https://us-python.pkg.dev/colab-wheels/public/simple/\n",
            "Requirement already satisfied: keras in /usr/local/lib/python3.9/dist-packages (2.12.0)\n"
          ]
        }
      ]
    },
    {
      "cell_type": "code",
      "execution_count": null,
      "metadata": {
        "id": "Le7QtEJHR-Yu"
      },
      "outputs": [],
      "source": [
        "from keras.applications import  VGG16, VGG19, ResNet50, ResNet101, ResNet152, InceptionV3\n",
        "\n"
      ],
      "id": "Le7QtEJHR-Yu"
    },
    {
      "cell_type": "markdown",
      "metadata": {
        "id": "70rwAsT7cYpx"
      },
      "source": [
        "## **1. ResNet50**"
      ],
      "id": "70rwAsT7cYpx"
    },
    {
      "cell_type": "code",
      "execution_count": null,
      "metadata": {
        "colab": {
          "base_uri": "https://localhost:8080/"
        },
        "outputId": "6a02d940-a011-47d0-bc56-de25f57f7ba8",
        "id": "6Qgj5DjscYpx"
      },
      "outputs": [
        {
          "output_type": "stream",
          "name": "stdout",
          "text": [
            "Downloading data from https://storage.googleapis.com/tensorflow/keras-applications/resnet/resnet50_weights_tf_dim_ordering_tf_kernels_notop.h5\n",
            "94765736/94765736 [==============================] - 0s 0us/step\n"
          ]
        }
      ],
      "source": [
        "base_model1 = keras.applications.ResNet50(\n",
        "    weights='imagenet',  # Load weights pre-trained on ImageNet.\n",
        "    input_shape=(128, 128, 3),\n",
        "    include_top=False)"
      ],
      "id": "6Qgj5DjscYpx"
    },
    {
      "cell_type": "code",
      "execution_count": null,
      "metadata": {
        "id": "NQ-Ted-ZcYpx"
      },
      "outputs": [],
      "source": [
        "base_model1.trainable = False"
      ],
      "id": "NQ-Ted-ZcYpx"
    },
    {
      "cell_type": "code",
      "execution_count": null,
      "metadata": {
        "id": "o0D_IdPQcYpy"
      },
      "outputs": [],
      "source": [
        "inputs = keras.Input(shape=(128, 128, 3))\n",
        "# We make sure that the base_model is running in inference mode here,\n",
        "# by passing `training=False`. This is important for fine-tuning, as you will\n",
        "# learn in a few paragraphs.\n",
        "x = base_model1(inputs, training=False)\n",
        "# Convert features of shape `base_model.output_shape[1:]` to vectors\n",
        "x = keras.layers.GlobalAveragePooling2D()(x)\n",
        "# A Dense classifier with a categorical classification\n",
        "outputs = keras.layers.Dense(4, activation='softmax')(x)\n",
        "model = keras.Model(inputs, outputs)"
      ],
      "id": "o0D_IdPQcYpy"
    },
    {
      "cell_type": "code",
      "execution_count": null,
      "metadata": {
        "colab": {
          "base_uri": "https://localhost:8080/"
        },
        "outputId": "aa650c77-48f4-43fd-be96-04d5d93203b4",
        "id": "VTHTfOYWcYpy"
      },
      "outputs": [
        {
          "output_type": "stream",
          "name": "stdout",
          "text": [
            "Epoch 1/20\n",
            "43/43 [==============================] - 37s 387ms/step - loss: 0.9360 - accuracy: 0.6073 - val_loss: 0.6527 - val_accuracy: 0.7478\n",
            "Epoch 2/20\n",
            "43/43 [==============================] - 17s 354ms/step - loss: 0.5953 - accuracy: 0.7644 - val_loss: 0.5690 - val_accuracy: 0.7908\n",
            "Epoch 3/20\n",
            "43/43 [==============================] - 19s 401ms/step - loss: 0.5334 - accuracy: 0.7992 - val_loss: 0.5343 - val_accuracy: 0.7967\n",
            "Epoch 4/20\n",
            "43/43 [==============================] - 17s 359ms/step - loss: 0.4671 - accuracy: 0.8292 - val_loss: 0.5239 - val_accuracy: 0.7967\n",
            "Epoch 5/20\n",
            "43/43 [==============================] - 17s 352ms/step - loss: 0.4404 - accuracy: 0.8370 - val_loss: 0.4744 - val_accuracy: 0.8160\n",
            "Epoch 6/20\n",
            "43/43 [==============================] - 17s 346ms/step - loss: 0.4017 - accuracy: 0.8577 - val_loss: 0.4551 - val_accuracy: 0.8205\n",
            "Epoch 7/20\n",
            "43/43 [==============================] - 17s 350ms/step - loss: 0.3896 - accuracy: 0.8518 - val_loss: 0.4986 - val_accuracy: 0.8042\n",
            "Epoch 8/20\n",
            "43/43 [==============================] - 17s 350ms/step - loss: 0.3715 - accuracy: 0.8629 - val_loss: 0.4276 - val_accuracy: 0.8457\n",
            "Epoch 9/20\n",
            "43/43 [==============================] - 18s 387ms/step - loss: 0.3368 - accuracy: 0.8885 - val_loss: 0.4213 - val_accuracy: 0.8442\n",
            "Epoch 10/20\n",
            "43/43 [==============================] - 21s 455ms/step - loss: 0.3189 - accuracy: 0.8911 - val_loss: 0.4094 - val_accuracy: 0.8561\n",
            "Epoch 11/20\n",
            "43/43 [==============================] - 19s 385ms/step - loss: 0.3184 - accuracy: 0.8881 - val_loss: 0.4234 - val_accuracy: 0.8353\n",
            "Epoch 12/20\n",
            "43/43 [==============================] - 17s 351ms/step - loss: 0.2962 - accuracy: 0.9048 - val_loss: 0.3958 - val_accuracy: 0.8457\n",
            "Epoch 13/20\n",
            "43/43 [==============================] - 19s 393ms/step - loss: 0.2862 - accuracy: 0.9096 - val_loss: 0.3909 - val_accuracy: 0.8576\n",
            "Epoch 14/20\n",
            "43/43 [==============================] - 17s 348ms/step - loss: 0.2728 - accuracy: 0.9103 - val_loss: 0.4103 - val_accuracy: 0.8516\n",
            "Epoch 15/20\n",
            "43/43 [==============================] - 17s 354ms/step - loss: 0.2737 - accuracy: 0.9181 - val_loss: 0.3839 - val_accuracy: 0.8680\n",
            "Epoch 16/20\n",
            "43/43 [==============================] - 17s 354ms/step - loss: 0.2537 - accuracy: 0.9211 - val_loss: 0.3758 - val_accuracy: 0.8487\n",
            "Epoch 17/20\n",
            "43/43 [==============================] - 18s 369ms/step - loss: 0.2523 - accuracy: 0.9192 - val_loss: 0.3748 - val_accuracy: 0.8605\n",
            "Epoch 18/20\n",
            "43/43 [==============================] - 17s 355ms/step - loss: 0.2365 - accuracy: 0.9270 - val_loss: 0.3721 - val_accuracy: 0.8650\n",
            "Epoch 19/20\n",
            "43/43 [==============================] - 17s 360ms/step - loss: 0.2334 - accuracy: 0.9229 - val_loss: 0.3707 - val_accuracy: 0.8546\n",
            "Epoch 20/20\n",
            "43/43 [==============================] - 18s 367ms/step - loss: 0.2237 - accuracy: 0.9318 - val_loss: 0.3675 - val_accuracy: 0.8650\n"
          ]
        },
        {
          "output_type": "execute_result",
          "data": {
            "text/plain": [
              "<keras.callbacks.History at 0x7f43600c6a30>"
            ]
          },
          "metadata": {},
          "execution_count": 16
        }
      ],
      "source": [
        "# Compile the model\n",
        "model.compile(optimizer='adam', loss='categorical_crossentropy', metrics=['accuracy'])\n",
        "# Fit the model\n",
        "model.fit(ds_train, epochs=20, validation_data=ds_val)"
      ],
      "id": "VTHTfOYWcYpy"
    },
    {
      "cell_type": "markdown",
      "metadata": {
        "id": "Yc1UPLMhcYpy"
      },
      "source": [
        "### **Fine-tuning**\n",
        "\n"
      ],
      "id": "Yc1UPLMhcYpy"
    },
    {
      "cell_type": "code",
      "execution_count": null,
      "metadata": {
        "colab": {
          "base_uri": "https://localhost:8080/"
        },
        "outputId": "33af12ae-6857-4690-84f2-a0fa8cb73d59",
        "id": "fBHhkzURcYpy"
      },
      "outputs": [
        {
          "output_type": "stream",
          "name": "stdout",
          "text": [
            "Epoch 1/10\n",
            "43/43 [==============================] - 29s 441ms/step - loss: 0.2122 - accuracy: 0.9229 - val_loss: 0.3514 - val_accuracy: 0.8828\n",
            "Epoch 2/10\n",
            "43/43 [==============================] - 21s 431ms/step - loss: 0.1082 - accuracy: 0.9670 - val_loss: 0.3171 - val_accuracy: 0.8976\n",
            "Epoch 3/10\n",
            "43/43 [==============================] - 20s 416ms/step - loss: 0.0522 - accuracy: 0.9870 - val_loss: 0.3706 - val_accuracy: 0.8872\n",
            "Epoch 4/10\n",
            "43/43 [==============================] - 21s 444ms/step - loss: 0.0309 - accuracy: 0.9937 - val_loss: 0.3950 - val_accuracy: 0.9006\n",
            "Epoch 5/10\n",
            "43/43 [==============================] - 20s 416ms/step - loss: 0.0142 - accuracy: 0.9974 - val_loss: 0.4099 - val_accuracy: 0.9006\n",
            "Epoch 6/10\n",
            "43/43 [==============================] - 21s 447ms/step - loss: 0.0089 - accuracy: 0.9989 - val_loss: 0.3958 - val_accuracy: 0.8976\n",
            "Epoch 7/10\n",
            "43/43 [==============================] - 20s 414ms/step - loss: 0.0080 - accuracy: 0.9985 - val_loss: 0.4165 - val_accuracy: 0.8991\n",
            "Epoch 8/10\n",
            "43/43 [==============================] - 20s 434ms/step - loss: 0.0061 - accuracy: 0.9985 - val_loss: 0.4559 - val_accuracy: 0.9021\n",
            "Epoch 9/10\n",
            "43/43 [==============================] - 20s 403ms/step - loss: 0.0039 - accuracy: 0.9985 - val_loss: 0.4554 - val_accuracy: 0.9021\n",
            "Epoch 10/10\n",
            "43/43 [==============================] - 20s 416ms/step - loss: 0.0037 - accuracy: 0.9985 - val_loss: 0.4694 - val_accuracy: 0.9006\n"
          ]
        }
      ],
      "source": [
        "# Unfreeze the base model\n",
        "base_model1.trainable = True\n",
        "\n",
        "# It's important to recompile your model after you make any changes\n",
        "# to the `trainable` attribute of any inner layer, so that your changes\n",
        "# are take into account\n",
        "model.compile(optimizer=keras.optimizers.Adam(1e-5),  # Very low learning rate\n",
        "            loss='categorical_crossentropy',\n",
        "              metrics=['accuracy'])\n",
        "\n",
        "# Train end-to-end. Be careful to stop before you overfit!\n",
        "Resnet50_transfer =model.fit(ds_train, epochs=10, validation_data=ds_val)"
      ],
      "id": "fBHhkzURcYpy"
    },
    {
      "cell_type": "markdown",
      "metadata": {
        "id": "uw8pdA5FcYpy"
      },
      "source": [
        "###**Plot Resnet50 transfer**"
      ],
      "id": "uw8pdA5FcYpy"
    },
    {
      "cell_type": "code",
      "execution_count": null,
      "metadata": {
        "colab": {
          "base_uri": "https://localhost:8080/",
          "height": 505
        },
        "outputId": "0e448ace-e5a8-441c-ee75-c28a3e5b8e02",
        "id": "Q_hk5xzlcYpy"
      },
      "outputs": [
        {
          "output_type": "display_data",
          "data": {
            "text/plain": [
              "<Figure size 1600x400 with 2 Axes>"
            ],
            "image/png": "[encoded data removed]"
          },
          "metadata": {}
        }
      ],
      "source": [
        "plot_training_history(Resnet50_transfer)"
      ],
      "id": "Q_hk5xzlcYpy"
    },
    {
      "cell_type": "markdown",
      "metadata": {
        "id": "WACisq8ooEv3"
      },
      "source": [
        "## **1. ResNet101**"
      ],
      "id": "WACisq8ooEv3"
    },
    {
      "cell_type": "code",
      "execution_count": null,
      "metadata": {
        "colab": {
          "base_uri": "https://localhost:8080/"
        },
        "id": "KN_-jVlKoEv3",
        "outputId": "30d100e0-eb67-481c-ee92-985d4075eb82"
      },
      "outputs": [
        {
          "output_type": "stream",
          "name": "stdout",
          "text": [
            "Downloading data from https://storage.googleapis.com/tensorflow/keras-applications/resnet/resnet101_weights_tf_dim_ordering_tf_kernels_notop.h5\n",
            "171446536/171446536 [==============================] - 1s 0us/step\n"
          ]
        }
      ],
      "source": [
        "base_model2 = keras.applications.ResNet101(\n",
        "    weights='imagenet',  # Load weights pre-trained on ImageNet.\n",
        "    input_shape=(128, 128, 3),\n",
        "    include_top=False)"
      ],
      "id": "KN_-jVlKoEv3"
    },
    {
      "cell_type": "code",
      "execution_count": null,
      "metadata": {
        "id": "2zbirLRZoEv4"
      },
      "outputs": [],
      "source": [
        "base_model2.trainable = False"
      ],
      "id": "2zbirLRZoEv4"
    },
    {
      "cell_type": "code",
      "execution_count": null,
      "metadata": {
        "id": "PY7jW_LpoEv4"
      },
      "outputs": [],
      "source": [
        "inputs = keras.Input(shape=(128, 128, 3))\n",
        "# We make sure that the base_model is running in inference mode here,\n",
        "# by passing `training=False`. This is important for fine-tuning, as you will\n",
        "# learn in a few paragraphs.\n",
        "x = base_model2(inputs, training=False)\n",
        "# Convert features of shape `base_model.output_shape[1:]` to vectors\n",
        "x = keras.layers.GlobalAveragePooling2D()(x)\n",
        "# A Dense classifier with a categorical classification\n",
        "outputs = keras.layers.Dense(4, activation='softmax')(x)\n",
        "model = keras.Model(inputs, outputs)"
      ],
      "id": "PY7jW_LpoEv4"
    },
    {
      "cell_type": "code",
      "execution_count": null,
      "metadata": {
        "colab": {
          "base_uri": "https://localhost:8080/"
        },
        "id": "u_GfMEwsoEv4",
        "outputId": "5a45fd48-a304-4b77-f779-a0cc8a79dd3b"
      },
      "outputs": [
        {
          "output_type": "stream",
          "name": "stdout",
          "text": [
            "Epoch 1/20\n",
            "43/43 [==============================] - 26s 416ms/step - loss: 0.9277 - accuracy: 0.6250 - val_loss: 0.6539 - val_accuracy: 0.7404\n",
            "Epoch 2/20\n",
            "43/43 [==============================] - 18s 367ms/step - loss: 0.5725 - accuracy: 0.7777 - val_loss: 0.5466 - val_accuracy: 0.7938\n",
            "Epoch 3/20\n",
            "43/43 [==============================] - 17s 366ms/step - loss: 0.4972 - accuracy: 0.8044 - val_loss: 0.5196 - val_accuracy: 0.8027\n",
            "Epoch 4/20\n",
            "43/43 [==============================] - 19s 382ms/step - loss: 0.4478 - accuracy: 0.8307 - val_loss: 0.4694 - val_accuracy: 0.8160\n",
            "Epoch 5/20\n",
            "43/43 [==============================] - 17s 360ms/step - loss: 0.4067 - accuracy: 0.8507 - val_loss: 0.4542 - val_accuracy: 0.8175\n",
            "Epoch 6/20\n",
            "43/43 [==============================] - 17s 362ms/step - loss: 0.3816 - accuracy: 0.8566 - val_loss: 0.4380 - val_accuracy: 0.8412\n",
            "Epoch 7/20\n",
            "43/43 [==============================] - 18s 361ms/step - loss: 0.3535 - accuracy: 0.8711 - val_loss: 0.4733 - val_accuracy: 0.8071\n",
            "Epoch 8/20\n",
            "43/43 [==============================] - 18s 368ms/step - loss: 0.3602 - accuracy: 0.8633 - val_loss: 0.4223 - val_accuracy: 0.8383\n",
            "Epoch 9/20\n",
            "43/43 [==============================] - 17s 364ms/step - loss: 0.3173 - accuracy: 0.8807 - val_loss: 0.4005 - val_accuracy: 0.8442\n",
            "Epoch 10/20\n",
            "43/43 [==============================] - 19s 384ms/step - loss: 0.3000 - accuracy: 0.8922 - val_loss: 0.3978 - val_accuracy: 0.8457\n",
            "Epoch 11/20\n",
            "43/43 [==============================] - 17s 355ms/step - loss: 0.2843 - accuracy: 0.9018 - val_loss: 0.4058 - val_accuracy: 0.8412\n",
            "Epoch 12/20\n",
            "43/43 [==============================] - 17s 366ms/step - loss: 0.2751 - accuracy: 0.9048 - val_loss: 0.3843 - val_accuracy: 0.8531\n",
            "Epoch 13/20\n",
            "43/43 [==============================] - 18s 372ms/step - loss: 0.2583 - accuracy: 0.9170 - val_loss: 0.3780 - val_accuracy: 0.8546\n",
            "Epoch 14/20\n",
            "43/43 [==============================] - 17s 366ms/step - loss: 0.2567 - accuracy: 0.9089 - val_loss: 0.3800 - val_accuracy: 0.8472\n",
            "Epoch 15/20\n",
            "43/43 [==============================] - 17s 363ms/step - loss: 0.2386 - accuracy: 0.9255 - val_loss: 0.3681 - val_accuracy: 0.8605\n",
            "Epoch 16/20\n",
            "43/43 [==============================] - 18s 383ms/step - loss: 0.2349 - accuracy: 0.9192 - val_loss: 0.3656 - val_accuracy: 0.8635\n",
            "Epoch 17/20\n",
            "43/43 [==============================] - 18s 370ms/step - loss: 0.2230 - accuracy: 0.9300 - val_loss: 0.3662 - val_accuracy: 0.8665\n",
            "Epoch 18/20\n",
            "43/43 [==============================] - 17s 362ms/step - loss: 0.2229 - accuracy: 0.9244 - val_loss: 0.3639 - val_accuracy: 0.8605\n",
            "Epoch 19/20\n",
            "43/43 [==============================] - 19s 392ms/step - loss: 0.2094 - accuracy: 0.9344 - val_loss: 0.3775 - val_accuracy: 0.8605\n",
            "Epoch 20/20\n",
            "43/43 [==============================] - 19s 400ms/step - loss: 0.2017 - accuracy: 0.9385 - val_loss: 0.3630 - val_accuracy: 0.8709\n"
          ]
        },
        {
          "output_type": "execute_result",
          "data": {
            "text/plain": [
              "<keras.callbacks.History at 0x7f42a898b790>"
            ]
          },
          "metadata": {},
          "execution_count": 22
        }
      ],
      "source": [
        "# Compile the model\n",
        "model.compile(optimizer='adam', loss='categorical_crossentropy', metrics=['accuracy'])\n",
        "# Fit the model\n",
        "model.fit(ds_train, epochs=20, validation_data=ds_val)"
      ],
      "id": "u_GfMEwsoEv4"
    },
    {
      "cell_type": "markdown",
      "metadata": {
        "id": "lqu4vIwfoEv4"
      },
      "source": [
        "### **Fine-tuning**\n",
        "\n"
      ],
      "id": "lqu4vIwfoEv4"
    },
    {
      "cell_type": "code",
      "execution_count": null,
      "metadata": {
        "colab": {
          "base_uri": "https://localhost:8080/"
        },
        "id": "Lb8JBmOMoEv4",
        "outputId": "0b411339-c6b3-452b-8aec-96d5123b04a6"
      },
      "outputs": [
        {
          "output_type": "stream",
          "name": "stdout",
          "text": [
            "Epoch 1/10\n",
            "43/43 [==============================] - 39s 555ms/step - loss: 0.2225 - accuracy: 0.9181 - val_loss: 0.3554 - val_accuracy: 0.8694\n",
            "Epoch 2/10\n",
            "43/43 [==============================] - 24s 521ms/step - loss: 0.0922 - accuracy: 0.9722 - val_loss: 0.3018 - val_accuracy: 0.9036\n",
            "Epoch 3/10\n",
            "43/43 [==============================] - 23s 484ms/step - loss: 0.0389 - accuracy: 0.9911 - val_loss: 0.3408 - val_accuracy: 0.8991\n",
            "Epoch 4/10\n",
            "43/43 [==============================] - 24s 479ms/step - loss: 0.0298 - accuracy: 0.9918 - val_loss: 0.4187 - val_accuracy: 0.9021\n",
            "Epoch 5/10\n",
            "43/43 [==============================] - 24s 511ms/step - loss: 0.0244 - accuracy: 0.9948 - val_loss: 0.4198 - val_accuracy: 0.8694\n",
            "Epoch 6/10\n",
            "43/43 [==============================] - 27s 576ms/step - loss: 0.0158 - accuracy: 0.9974 - val_loss: 0.3615 - val_accuracy: 0.9036\n",
            "Epoch 7/10\n",
            "43/43 [==============================] - 26s 559ms/step - loss: 0.0068 - accuracy: 0.9985 - val_loss: 0.3452 - val_accuracy: 0.9110\n",
            "Epoch 8/10\n",
            "43/43 [==============================] - 24s 515ms/step - loss: 0.0053 - accuracy: 0.9985 - val_loss: 0.3497 - val_accuracy: 0.9095\n",
            "Epoch 9/10\n",
            "43/43 [==============================] - 24s 479ms/step - loss: 0.0039 - accuracy: 0.9985 - val_loss: 0.3648 - val_accuracy: 0.9095\n",
            "Epoch 10/10\n",
            "43/43 [==============================] - 25s 529ms/step - loss: 0.0034 - accuracy: 0.9989 - val_loss: 0.3832 - val_accuracy: 0.9154\n"
          ]
        }
      ],
      "source": [
        "# Unfreeze the base model\n",
        "base_model2.trainable = True\n",
        "\n",
        "# It's important to recompile your model after you make any changes\n",
        "# to the `trainable` attribute of any inner layer, so that your changes\n",
        "# are take into account\n",
        "model.compile(optimizer=keras.optimizers.Adam(1e-5),  # Very low learning rate\n",
        "            loss='categorical_crossentropy',\n",
        "              metrics=['accuracy'])\n",
        "\n",
        "# Train end-to-end. Be careful to stop before you overfit!\n",
        "Resnet101_transfer =model.fit(ds_train, epochs=10, validation_data=ds_val)"
      ],
      "id": "Lb8JBmOMoEv4"
    },
    {
      "cell_type": "markdown",
      "metadata": {
        "id": "BrTD0O5YRacl"
      },
      "source": [
        "###**Plot Resnet101 transfer**"
      ],
      "id": "BrTD0O5YRacl"
    },
    {
      "cell_type": "code",
      "execution_count": null,
      "metadata": {
        "colab": {
          "base_uri": "https://localhost:8080/",
          "height": 505
        },
        "id": "sVobHq2RSZkC",
        "outputId": "194118b7-df41-4e36-f225-a4ec08da84a5"
      },
      "outputs": [
        {
          "output_type": "display_data",
          "data": {
            "text/plain": [
              "<Figure size 1600x400 with 2 Axes>"
            ],
            "image/png": "[encoded data removed]"
          },
          "metadata": {}
        }
      ],
      "source": [
        "plot_training_history(Resnet101_transfer)"
      ],
      "id": "sVobHq2RSZkC"
    },
    {
      "cell_type": "markdown",
      "metadata": {
        "id": "vR584STccbQ5"
      },
      "source": [
        "## **1. ResNet152**"
      ],
      "id": "vR584STccbQ5"
    },
    {
      "cell_type": "code",
      "execution_count": null,
      "metadata": {
        "colab": {
          "base_uri": "https://localhost:8080/"
        },
        "outputId": "4fec10a7-217d-4e2a-e0b7-e051f7f98c93",
        "id": "obXtkGPpcbQ6"
      },
      "outputs": [
        {
          "output_type": "stream",
          "name": "stdout",
          "text": [
            "Downloading data from https://storage.googleapis.com/tensorflow/keras-applications/resnet/resnet152_weights_tf_dim_ordering_tf_kernels_notop.h5\n",
            "234698864/234698864 [==============================] - 4s 0us/step\n"
          ]
        }
      ],
      "source": [
        "base_model3 = keras.applications.ResNet152(\n",
        "    weights='imagenet',  # Load weights pre-trained on ImageNet.\n",
        "    input_shape=(128, 128, 3),\n",
        "    include_top=False)"
      ],
      "id": "obXtkGPpcbQ6"
    },
    {
      "cell_type": "code",
      "execution_count": null,
      "metadata": {
        "id": "j79iVzsDcbQ6"
      },
      "outputs": [],
      "source": [
        "base_model3.trainable = False"
      ],
      "id": "j79iVzsDcbQ6"
    },
    {
      "cell_type": "code",
      "execution_count": null,
      "metadata": {
        "id": "stSGUjtCcbQ6"
      },
      "outputs": [],
      "source": [
        "inputs = keras.Input(shape=(128, 128, 3))\n",
        "# We make sure that the base_model is running in inference mode here,\n",
        "# by passing `training=False`. This is important for fine-tuning, as you will\n",
        "# learn in a few paragraphs.\n",
        "x = base_model3(inputs, training=False)\n",
        "# Convert features of shape `base_model.output_shape[1:]` to vectors\n",
        "x = keras.layers.GlobalAveragePooling2D()(x)\n",
        "# A Dense classifier with a categorical classification\n",
        "outputs = keras.layers.Dense(4, activation='softmax')(x)\n",
        "model = keras.Model(inputs, outputs)"
      ],
      "id": "stSGUjtCcbQ6"
    },
    {
      "cell_type": "code",
      "execution_count": null,
      "metadata": {
        "colab": {
          "base_uri": "https://localhost:8080/"
        },
        "outputId": "fcff4035-34b4-4bc0-c08d-c115834d4fa1",
        "id": "yGyM0c0OcbQ7"
      },
      "outputs": [
        {
          "output_type": "stream",
          "name": "stdout",
          "text": [
            "Epoch 1/20\n",
            "43/43 [==============================] - 30s 443ms/step - loss: 0.8968 - accuracy: 0.6265 - val_loss: 0.5900 - val_accuracy: 0.7715\n",
            "Epoch 2/20\n",
            "43/43 [==============================] - 20s 418ms/step - loss: 0.5658 - accuracy: 0.7795 - val_loss: 0.5282 - val_accuracy: 0.7953\n",
            "Epoch 3/20\n",
            "43/43 [==============================] - 19s 407ms/step - loss: 0.4891 - accuracy: 0.8088 - val_loss: 0.4915 - val_accuracy: 0.8101\n",
            "Epoch 4/20\n",
            "43/43 [==============================] - 18s 386ms/step - loss: 0.4516 - accuracy: 0.8203 - val_loss: 0.4604 - val_accuracy: 0.8071\n",
            "Epoch 5/20\n",
            "43/43 [==============================] - 21s 410ms/step - loss: 0.4027 - accuracy: 0.8451 - val_loss: 0.4244 - val_accuracy: 0.8249\n",
            "Epoch 6/20\n",
            "43/43 [==============================] - 19s 396ms/step - loss: 0.3778 - accuracy: 0.8588 - val_loss: 0.4111 - val_accuracy: 0.8323\n",
            "Epoch 7/20\n",
            "43/43 [==============================] - 20s 419ms/step - loss: 0.3665 - accuracy: 0.8599 - val_loss: 0.4159 - val_accuracy: 0.8309\n",
            "Epoch 8/20\n",
            "43/43 [==============================] - 18s 377ms/step - loss: 0.3322 - accuracy: 0.8788 - val_loss: 0.4020 - val_accuracy: 0.8353\n",
            "Epoch 9/20\n",
            "43/43 [==============================] - 19s 396ms/step - loss: 0.3248 - accuracy: 0.8803 - val_loss: 0.3867 - val_accuracy: 0.8427\n",
            "Epoch 10/20\n",
            "43/43 [==============================] - 20s 424ms/step - loss: 0.3056 - accuracy: 0.8940 - val_loss: 0.3949 - val_accuracy: 0.8487\n",
            "Epoch 11/20\n",
            "43/43 [==============================] - 20s 424ms/step - loss: 0.2903 - accuracy: 0.9003 - val_loss: 0.3882 - val_accuracy: 0.8472\n",
            "Epoch 12/20\n",
            "43/43 [==============================] - 20s 421ms/step - loss: 0.2789 - accuracy: 0.9040 - val_loss: 0.3738 - val_accuracy: 0.8427\n",
            "Epoch 13/20\n",
            "43/43 [==============================] - 18s 389ms/step - loss: 0.2697 - accuracy: 0.9018 - val_loss: 0.3702 - val_accuracy: 0.8516\n",
            "Epoch 14/20\n",
            "43/43 [==============================] - 20s 385ms/step - loss: 0.2576 - accuracy: 0.9089 - val_loss: 0.3673 - val_accuracy: 0.8546\n",
            "Epoch 15/20\n",
            "43/43 [==============================] - 19s 395ms/step - loss: 0.2462 - accuracy: 0.9144 - val_loss: 0.3745 - val_accuracy: 0.8561\n",
            "Epoch 16/20\n",
            "43/43 [==============================] - 20s 395ms/step - loss: 0.2400 - accuracy: 0.9152 - val_loss: 0.3718 - val_accuracy: 0.8531\n",
            "Epoch 17/20\n",
            "43/43 [==============================] - 18s 388ms/step - loss: 0.2420 - accuracy: 0.9103 - val_loss: 0.3952 - val_accuracy: 0.8383\n",
            "Epoch 18/20\n",
            "43/43 [==============================] - 18s 388ms/step - loss: 0.2291 - accuracy: 0.9189 - val_loss: 0.3694 - val_accuracy: 0.8576\n",
            "Epoch 19/20\n",
            "43/43 [==============================] - 18s 379ms/step - loss: 0.2122 - accuracy: 0.9266 - val_loss: 0.3727 - val_accuracy: 0.8605\n",
            "Epoch 20/20\n",
            "43/43 [==============================] - 18s 383ms/step - loss: 0.2116 - accuracy: 0.9311 - val_loss: 0.3558 - val_accuracy: 0.8620\n"
          ]
        },
        {
          "output_type": "execute_result",
          "data": {
            "text/plain": [
              "<keras.callbacks.History at 0x7f4284704130>"
            ]
          },
          "metadata": {},
          "execution_count": 28
        }
      ],
      "source": [
        "# Compile the model\n",
        "model.compile(optimizer='adam', loss='categorical_crossentropy', metrics=['accuracy'])\n",
        "# Fit the model\n",
        "model.fit(ds_train, epochs=20, validation_data=ds_val)"
      ],
      "id": "yGyM0c0OcbQ7"
    },
    {
      "cell_type": "markdown",
      "metadata": {
        "id": "z7c5RlXDcbQ7"
      },
      "source": [
        "### **Fine-tuning**\n",
        "\n"
      ],
      "id": "z7c5RlXDcbQ7"
    },
    {
      "cell_type": "code",
      "execution_count": null,
      "metadata": {
        "colab": {
          "base_uri": "https://localhost:8080/"
        },
        "outputId": "2b12d121-abd7-493f-c85d-fe5e08229e17",
        "id": "tmjAdYHBcbQ7"
      },
      "outputs": [
        {
          "output_type": "stream",
          "name": "stdout",
          "text": [
            "Epoch 1/10\n",
            "43/43 [==============================] - 50s 694ms/step - loss: 0.2415 - accuracy: 0.9018 - val_loss: 0.3131 - val_accuracy: 0.8828\n",
            "Epoch 2/10\n",
            "43/43 [==============================] - 28s 616ms/step - loss: 0.1042 - accuracy: 0.9644 - val_loss: 0.2837 - val_accuracy: 0.9095\n",
            "Epoch 3/10\n",
            "43/43 [==============================] - 28s 612ms/step - loss: 0.0485 - accuracy: 0.9867 - val_loss: 0.3100 - val_accuracy: 0.9021\n",
            "Epoch 4/10\n",
            "43/43 [==============================] - 29s 627ms/step - loss: 0.0237 - accuracy: 0.9937 - val_loss: 0.3349 - val_accuracy: 0.9021\n",
            "Epoch 5/10\n",
            "43/43 [==============================] - 28s 613ms/step - loss: 0.0130 - accuracy: 0.9985 - val_loss: 0.3775 - val_accuracy: 0.9021\n",
            "Epoch 6/10\n",
            "43/43 [==============================] - 29s 617ms/step - loss: 0.0080 - accuracy: 0.9985 - val_loss: 0.3777 - val_accuracy: 0.9110\n",
            "Epoch 7/10\n",
            "43/43 [==============================] - 29s 609ms/step - loss: 0.0058 - accuracy: 0.9985 - val_loss: 0.3952 - val_accuracy: 0.9095\n",
            "Epoch 8/10\n",
            "43/43 [==============================] - 30s 641ms/step - loss: 0.0048 - accuracy: 0.9985 - val_loss: 0.3654 - val_accuracy: 0.9154\n",
            "Epoch 9/10\n",
            "43/43 [==============================] - 30s 638ms/step - loss: 0.0046 - accuracy: 0.9985 - val_loss: 0.3906 - val_accuracy: 0.9110\n",
            "Epoch 10/10\n",
            "43/43 [==============================] - 29s 636ms/step - loss: 0.0038 - accuracy: 0.9985 - val_loss: 0.3858 - val_accuracy: 0.9139\n"
          ]
        }
      ],
      "source": [
        "# Unfreeze the base model\n",
        "base_model3.trainable = True\n",
        "\n",
        "# It's important to recompile your model after you make any changes\n",
        "# to the `trainable` attribute of any inner layer, so that your changes\n",
        "# are take into account\n",
        "model.compile(optimizer=keras.optimizers.Adam(1e-5),  # Very low learning rate\n",
        "            loss='categorical_crossentropy',\n",
        "              metrics=['accuracy'])\n",
        "\n",
        "# Train end-to-end. Be careful to stop before you overfit!\n",
        "Resnet152_transfer =model.fit(ds_train, epochs=10, validation_data=ds_val)"
      ],
      "id": "tmjAdYHBcbQ7"
    },
    {
      "cell_type": "markdown",
      "metadata": {
        "id": "dTe-_H1XcbQ8"
      },
      "source": [
        "###**Plot Resnet152 transfer**"
      ],
      "id": "dTe-_H1XcbQ8"
    },
    {
      "cell_type": "code",
      "execution_count": null,
      "metadata": {
        "colab": {
          "base_uri": "https://localhost:8080/",
          "height": 505
        },
        "outputId": "104d35d6-6f45-4ca1-f402-120622cae9a2",
        "id": "rn7dSQc6cbQ8"
      },
      "outputs": [
        {
          "output_type": "display_data",
          "data": {
            "text/plain": [
              "<Figure size 1600x400 with 2 Axes>"
            ],
            "image/png": "[encoded data removed]"
          },
          "metadata": {}
        }
      ],
      "source": [
        "plot_training_history(Resnet152_transfer)"
      ],
      "id": "rn7dSQc6cbQ8"
    },
    {
      "cell_type": "markdown",
      "metadata": {
        "id": "e1_KCDgohgMz"
      },
      "source": [
        "## **2. VGG16**"
      ],
      "id": "e1_KCDgohgMz"
    },
    {
      "cell_type": "code",
      "execution_count": null,
      "metadata": {
        "colab": {
          "base_uri": "https://localhost:8080/"
        },
        "id": "9_U0MEE8hWyp",
        "outputId": "837173b6-c270-445a-9b0a-b40cf7eb9d1d"
      },
      "outputs": [
        {
          "output_type": "stream",
          "name": "stdout",
          "text": [
            "Downloading data from https://storage.googleapis.com/tensorflow/keras-applications/vgg16/vgg16_weights_tf_dim_ordering_tf_kernels_notop.h5\n",
            "58889256/58889256 [==============================] - 0s 0us/step\n"
          ]
        }
      ],
      "source": [
        "base_model4 = keras.applications.VGG16(\n",
        "    weights='imagenet',  # Load weights pre-trained on ImageNet.\n",
        "    input_shape=(128, 128, 3),\n",
        "    include_top=False)"
      ],
      "id": "9_U0MEE8hWyp"
    },
    {
      "cell_type": "code",
      "execution_count": null,
      "metadata": {
        "id": "ZnknxeD7hkAp"
      },
      "outputs": [],
      "source": [
        "base_model4.trainable = False"
      ],
      "id": "ZnknxeD7hkAp"
    },
    {
      "cell_type": "code",
      "execution_count": null,
      "metadata": {
        "id": "5rptdTeTh720"
      },
      "outputs": [],
      "source": [
        "inputs = keras.Input(shape=(128, 128, 3))\n",
        "# We make sure that the base_model is running in inference mode here,\n",
        "# by passing `training=False`. This is important for fine-tuning, as you will\n",
        "# learn in a few paragraphs.\n",
        "x = base_model4(inputs, training=False)\n",
        "# Convert features of shape `base_model.output_shape[1:]` to vectors\n",
        "x = keras.layers.GlobalAveragePooling2D()(x)\n",
        "# A Dense classifier with a single unit (binary classification)\n",
        "outputs = keras.layers.Dense(4, activation='softmax')(x)\n",
        "model = keras.Model(inputs, outputs)"
      ],
      "id": "5rptdTeTh720"
    },
    {
      "cell_type": "code",
      "execution_count": null,
      "metadata": {
        "colab": {
          "base_uri": "https://localhost:8080/"
        },
        "id": "AbtZhmdOiCol",
        "outputId": "ca38a845-7895-4864-d717-8164786680db"
      },
      "outputs": [
        {
          "output_type": "stream",
          "name": "stdout",
          "text": [
            "Epoch 1/20\n",
            "43/43 [==============================] - 23s 418ms/step - loss: 2.5261 - accuracy: 0.4450 - val_loss: 1.5138 - val_accuracy: 0.5786\n",
            "Epoch 2/20\n",
            "43/43 [==============================] - 18s 351ms/step - loss: 1.2990 - accuracy: 0.6206 - val_loss: 1.0116 - val_accuracy: 0.6662\n",
            "Epoch 3/20\n",
            "43/43 [==============================] - 17s 353ms/step - loss: 0.9582 - accuracy: 0.6840 - val_loss: 0.8379 - val_accuracy: 0.7151\n",
            "Epoch 4/20\n",
            "43/43 [==============================] - 17s 356ms/step - loss: 0.7901 - accuracy: 0.7243 - val_loss: 0.7716 - val_accuracy: 0.7136\n",
            "Epoch 5/20\n",
            "43/43 [==============================] - 18s 365ms/step - loss: 0.6888 - accuracy: 0.7443 - val_loss: 0.6867 - val_accuracy: 0.7537\n",
            "Epoch 6/20\n",
            "43/43 [==============================] - 17s 354ms/step - loss: 0.6292 - accuracy: 0.7625 - val_loss: 0.7056 - val_accuracy: 0.7567\n",
            "Epoch 7/20\n",
            "43/43 [==============================] - 17s 356ms/step - loss: 0.5771 - accuracy: 0.7818 - val_loss: 0.6175 - val_accuracy: 0.7685\n",
            "Epoch 8/20\n",
            "43/43 [==============================] - 20s 422ms/step - loss: 0.5404 - accuracy: 0.7944 - val_loss: 0.6222 - val_accuracy: 0.7656\n",
            "Epoch 9/20\n",
            "43/43 [==============================] - 17s 362ms/step - loss: 0.5202 - accuracy: 0.8088 - val_loss: 0.6075 - val_accuracy: 0.7789\n",
            "Epoch 10/20\n",
            "43/43 [==============================] - 17s 360ms/step - loss: 0.4757 - accuracy: 0.8155 - val_loss: 0.5609 - val_accuracy: 0.7819\n",
            "Epoch 11/20\n",
            "43/43 [==============================] - 19s 398ms/step - loss: 0.4644 - accuracy: 0.8218 - val_loss: 0.5762 - val_accuracy: 0.7953\n",
            "Epoch 12/20\n",
            "43/43 [==============================] - 18s 360ms/step - loss: 0.4328 - accuracy: 0.8299 - val_loss: 0.5506 - val_accuracy: 0.7997\n",
            "Epoch 13/20\n",
            "43/43 [==============================] - 17s 366ms/step - loss: 0.4258 - accuracy: 0.8351 - val_loss: 0.5867 - val_accuracy: 0.7864\n",
            "Epoch 14/20\n",
            "43/43 [==============================] - 19s 407ms/step - loss: 0.4078 - accuracy: 0.8459 - val_loss: 0.5157 - val_accuracy: 0.8056\n",
            "Epoch 15/20\n",
            "43/43 [==============================] - 18s 371ms/step - loss: 0.3923 - accuracy: 0.8585 - val_loss: 0.5099 - val_accuracy: 0.8131\n",
            "Epoch 16/20\n",
            "43/43 [==============================] - 17s 361ms/step - loss: 0.3827 - accuracy: 0.8570 - val_loss: 0.5146 - val_accuracy: 0.8071\n",
            "Epoch 17/20\n",
            "43/43 [==============================] - 18s 389ms/step - loss: 0.3698 - accuracy: 0.8577 - val_loss: 0.4928 - val_accuracy: 0.8160\n",
            "Epoch 18/20\n",
            "43/43 [==============================] - 17s 366ms/step - loss: 0.3629 - accuracy: 0.8637 - val_loss: 0.4928 - val_accuracy: 0.8145\n",
            "Epoch 19/20\n",
            "43/43 [==============================] - 17s 357ms/step - loss: 0.3476 - accuracy: 0.8737 - val_loss: 0.4864 - val_accuracy: 0.8294\n",
            "Epoch 20/20\n",
            "43/43 [==============================] - 19s 397ms/step - loss: 0.3426 - accuracy: 0.8733 - val_loss: 0.4815 - val_accuracy: 0.8220\n"
          ]
        },
        {
          "output_type": "execute_result",
          "data": {
            "text/plain": [
              "<keras.callbacks.History at 0x7f4248ed33a0>"
            ]
          },
          "metadata": {},
          "execution_count": 34
        }
      ],
      "source": [
        "# Compile the model\n",
        "model.compile(optimizer='adam', loss='categorical_crossentropy', metrics=['accuracy'])\n",
        "# Fit\n",
        "model.fit(ds_train, epochs=20, validation_data=ds_val)"
      ],
      "id": "AbtZhmdOiCol"
    },
    {
      "cell_type": "markdown",
      "metadata": {
        "id": "mf6g6jgBiZIH"
      },
      "source": [
        "### **Fine tuning**"
      ],
      "id": "mf6g6jgBiZIH"
    },
    {
      "cell_type": "code",
      "execution_count": null,
      "metadata": {
        "colab": {
          "base_uri": "https://localhost:8080/"
        },
        "id": "I-72hiekiCOx",
        "outputId": "4e1b31a1-7061-40ba-b46a-462b9ec5a7ea"
      },
      "outputs": [
        {
          "output_type": "stream",
          "name": "stdout",
          "text": [
            "Epoch 1/10\n",
            "43/43 [==============================] - 30s 478ms/step - loss: 0.4162 - accuracy: 0.8351 - val_loss: 0.4061 - val_accuracy: 0.8472\n",
            "Epoch 2/10\n",
            "43/43 [==============================] - 21s 449ms/step - loss: 0.2031 - accuracy: 0.9255 - val_loss: 0.3993 - val_accuracy: 0.8591\n",
            "Epoch 3/10\n",
            "43/43 [==============================] - 22s 470ms/step - loss: 0.1205 - accuracy: 0.9615 - val_loss: 0.3711 - val_accuracy: 0.8813\n",
            "Epoch 4/10\n",
            "43/43 [==============================] - 22s 463ms/step - loss: 0.0645 - accuracy: 0.9830 - val_loss: 0.3862 - val_accuracy: 0.8872\n",
            "Epoch 5/10\n",
            "43/43 [==============================] - 21s 438ms/step - loss: 0.0511 - accuracy: 0.9896 - val_loss: 0.3959 - val_accuracy: 0.8917\n",
            "Epoch 6/10\n",
            "43/43 [==============================] - 22s 472ms/step - loss: 0.0319 - accuracy: 0.9952 - val_loss: 0.4040 - val_accuracy: 0.8828\n",
            "Epoch 7/10\n",
            "43/43 [==============================] - 21s 434ms/step - loss: 0.0272 - accuracy: 0.9967 - val_loss: 0.4600 - val_accuracy: 0.8976\n",
            "Epoch 8/10\n",
            "43/43 [==============================] - 22s 460ms/step - loss: 0.0161 - accuracy: 0.9974 - val_loss: 0.4783 - val_accuracy: 0.8902\n",
            "Epoch 9/10\n",
            "43/43 [==============================] - 21s 438ms/step - loss: 0.0288 - accuracy: 0.9930 - val_loss: 0.3988 - val_accuracy: 0.9036\n",
            "Epoch 10/10\n",
            "43/43 [==============================] - 21s 416ms/step - loss: 0.0195 - accuracy: 0.9952 - val_loss: 0.5394 - val_accuracy: 0.8813\n"
          ]
        }
      ],
      "source": [
        "# Unfreeze the base model\n",
        "base_model4.trainable = True\n",
        "\n",
        "# It's important to recompile your model after you make any changes\n",
        "# to the `trainable` attribute of any inner layer, so that your changes\n",
        "# are take into account\n",
        "model.compile(optimizer=keras.optimizers.Adam(1e-5),  # Very low learning rate\n",
        "            loss='categorical_crossentropy',\n",
        "              metrics=['accuracy'])\n",
        "\n",
        "# Train end-to-end. Be careful to stop before you overfit!\n",
        "VGG16_transfer=model.fit(ds_train, epochs=10, validation_data=ds_val)"
      ],
      "id": "I-72hiekiCOx"
    },
    {
      "cell_type": "markdown",
      "metadata": {
        "id": "nkOQom2xkhdb"
      },
      "source": [
        "###**Plot VGG16 transfer**"
      ],
      "id": "nkOQom2xkhdb"
    },
    {
      "cell_type": "code",
      "execution_count": null,
      "metadata": {
        "colab": {
          "base_uri": "https://localhost:8080/",
          "height": 505
        },
        "id": "sPAhkztfRtgG",
        "outputId": "c8ca9266-1ec9-4d0b-ffae-aa64bc6c8f29"
      },
      "outputs": [
        {
          "output_type": "display_data",
          "data": {
            "text/plain": [
              "<Figure size 1600x400 with 2 Axes>"
            ],
            "image/png": "[encoded data removed]"
          },
          "metadata": {}
        }
      ],
      "source": [
        "plot_training_history(VGG16_transfer)"
      ],
      "id": "sPAhkztfRtgG"
    },
    {
      "cell_type": "markdown",
      "metadata": {
        "id": "SVmbqne8d_cp"
      },
      "source": [
        "## **2. VGG19**"
      ],
      "id": "SVmbqne8d_cp"
    },
    {
      "cell_type": "code",
      "execution_count": null,
      "metadata": {
        "colab": {
          "base_uri": "https://localhost:8080/"
        },
        "outputId": "b1658856-0644-4b42-ae0f-a41a9d833a8e",
        "id": "VuVtOvitd_cq"
      },
      "outputs": [
        {
          "output_type": "stream",
          "name": "stdout",
          "text": [
            "Downloading data from https://storage.googleapis.com/tensorflow/keras-applications/vgg19/vgg19_weights_tf_dim_ordering_tf_kernels_notop.h5\n",
            "80134624/80134624 [==============================] - 1s 0us/step\n"
          ]
        }
      ],
      "source": [
        "base_model5 = keras.applications.VGG19(\n",
        "    weights='imagenet',  # Load weights pre-trained on ImageNet.\n",
        "    input_shape=(128, 128, 3),\n",
        "    include_top=False)"
      ],
      "id": "VuVtOvitd_cq"
    },
    {
      "cell_type": "code",
      "execution_count": null,
      "metadata": {
        "id": "CYmKKEIfd_cq"
      },
      "outputs": [],
      "source": [
        "base_model5.trainable = False"
      ],
      "id": "CYmKKEIfd_cq"
    },
    {
      "cell_type": "code",
      "execution_count": null,
      "metadata": {
        "id": "cpeosGP8d_cq"
      },
      "outputs": [],
      "source": [
        "inputs = keras.Input(shape=(128, 128, 3))\n",
        "# We make sure that the base_model is running in inference mode here,\n",
        "# by passing `training=False`. This is important for fine-tuning, as you will\n",
        "# learn in a few paragraphs.\n",
        "x = base_model5(inputs, training=False)\n",
        "# Convert features of shape `base_model.output_shape[1:]` to vectors\n",
        "x = keras.layers.GlobalAveragePooling2D()(x)\n",
        "# A Dense classifier with a single unit (binary classification)\n",
        "outputs = keras.layers.Dense(4, activation='softmax')(x)\n",
        "model = keras.Model(inputs, outputs)"
      ],
      "id": "cpeosGP8d_cq"
    },
    {
      "cell_type": "code",
      "execution_count": null,
      "metadata": {
        "colab": {
          "base_uri": "https://localhost:8080/"
        },
        "outputId": "35c183b4-4d85-4917-e97c-2d989af2c181",
        "id": "Nv8E-Ck7d_cq"
      },
      "outputs": [
        {
          "output_type": "stream",
          "name": "stdout",
          "text": [
            "Epoch 1/20\n",
            "43/43 [==============================] - 18s 364ms/step - loss: 2.6611 - accuracy: 0.4109 - val_loss: 1.6692 - val_accuracy: 0.5608\n",
            "Epoch 2/20\n",
            "43/43 [==============================] - 17s 360ms/step - loss: 1.2970 - accuracy: 0.5928 - val_loss: 1.2115 - val_accuracy: 0.6365\n",
            "Epoch 3/20\n",
            "43/43 [==============================] - 19s 392ms/step - loss: 1.0180 - accuracy: 0.6499 - val_loss: 0.9638 - val_accuracy: 0.6855\n",
            "Epoch 4/20\n",
            "43/43 [==============================] - 20s 408ms/step - loss: 0.8574 - accuracy: 0.6884 - val_loss: 0.8615 - val_accuracy: 0.7196\n",
            "Epoch 5/20\n",
            "43/43 [==============================] - 17s 356ms/step - loss: 0.7587 - accuracy: 0.7180 - val_loss: 0.7821 - val_accuracy: 0.7374\n",
            "Epoch 6/20\n",
            "43/43 [==============================] - 19s 393ms/step - loss: 0.6945 - accuracy: 0.7303 - val_loss: 0.7286 - val_accuracy: 0.7537\n",
            "Epoch 7/20\n",
            "43/43 [==============================] - 17s 350ms/step - loss: 0.6397 - accuracy: 0.7525 - val_loss: 0.7004 - val_accuracy: 0.7611\n",
            "Epoch 8/20\n",
            "43/43 [==============================] - 17s 361ms/step - loss: 0.6210 - accuracy: 0.7681 - val_loss: 0.6668 - val_accuracy: 0.7745\n",
            "Epoch 9/20\n",
            "43/43 [==============================] - 18s 373ms/step - loss: 0.5653 - accuracy: 0.7762 - val_loss: 0.6490 - val_accuracy: 0.7656\n",
            "Epoch 10/20\n",
            "43/43 [==============================] - 19s 367ms/step - loss: 0.5341 - accuracy: 0.7899 - val_loss: 0.6260 - val_accuracy: 0.7774\n",
            "Epoch 11/20\n",
            "43/43 [==============================] - 19s 414ms/step - loss: 0.5178 - accuracy: 0.7910 - val_loss: 0.6188 - val_accuracy: 0.7804\n",
            "Epoch 12/20\n",
            "43/43 [==============================] - 17s 363ms/step - loss: 0.5047 - accuracy: 0.7996 - val_loss: 0.6029 - val_accuracy: 0.7834\n",
            "Epoch 13/20\n",
            "43/43 [==============================] - 19s 372ms/step - loss: 0.4701 - accuracy: 0.8073 - val_loss: 0.6141 - val_accuracy: 0.7626\n",
            "Epoch 14/20\n",
            "43/43 [==============================] - 17s 357ms/step - loss: 0.4598 - accuracy: 0.8081 - val_loss: 0.5857 - val_accuracy: 0.7878\n",
            "Epoch 15/20\n",
            "43/43 [==============================] - 18s 370ms/step - loss: 0.4447 - accuracy: 0.8181 - val_loss: 0.5792 - val_accuracy: 0.7730\n",
            "Epoch 16/20\n",
            "43/43 [==============================] - 18s 368ms/step - loss: 0.4245 - accuracy: 0.8314 - val_loss: 0.5830 - val_accuracy: 0.7774\n",
            "Epoch 17/20\n",
            "43/43 [==============================] - 19s 397ms/step - loss: 0.4582 - accuracy: 0.8170 - val_loss: 0.5644 - val_accuracy: 0.7953\n",
            "Epoch 18/20\n",
            "43/43 [==============================] - 19s 398ms/step - loss: 0.4281 - accuracy: 0.8273 - val_loss: 0.5531 - val_accuracy: 0.7997\n",
            "Epoch 19/20\n",
            "43/43 [==============================] - 18s 362ms/step - loss: 0.3984 - accuracy: 0.8385 - val_loss: 0.5511 - val_accuracy: 0.7982\n",
            "Epoch 20/20\n",
            "43/43 [==============================] - 17s 355ms/step - loss: 0.3987 - accuracy: 0.8377 - val_loss: 0.5389 - val_accuracy: 0.8056\n"
          ]
        },
        {
          "output_type": "execute_result",
          "data": {
            "text/plain": [
              "<keras.callbacks.History at 0x7f424899ca60>"
            ]
          },
          "metadata": {},
          "execution_count": 40
        }
      ],
      "source": [
        "# Compile the model\n",
        "model.compile(optimizer='adam', loss='categorical_crossentropy', metrics=['accuracy'])\n",
        "# Fit\n",
        "model.fit(ds_train, epochs=20, validation_data=ds_val)"
      ],
      "id": "Nv8E-Ck7d_cq"
    },
    {
      "cell_type": "markdown",
      "metadata": {
        "id": "srCc3CbZd_cq"
      },
      "source": [
        "### **Fine tuning**"
      ],
      "id": "srCc3CbZd_cq"
    },
    {
      "cell_type": "code",
      "execution_count": null,
      "metadata": {
        "colab": {
          "base_uri": "https://localhost:8080/"
        },
        "outputId": "37285e28-eee7-48fe-96c0-96664e72a874",
        "id": "awDk5nbwd_cr"
      },
      "outputs": [
        {
          "output_type": "stream",
          "name": "stdout",
          "text": [
            "Epoch 1/10\n",
            "43/43 [==============================] - 23s 446ms/step - loss: 0.4061 - accuracy: 0.8396 - val_loss: 0.4311 - val_accuracy: 0.8323\n",
            "Epoch 2/10\n",
            "43/43 [==============================] - 23s 489ms/step - loss: 0.2146 - accuracy: 0.9200 - val_loss: 0.4148 - val_accuracy: 0.8501\n",
            "Epoch 3/10\n",
            "43/43 [==============================] - 24s 485ms/step - loss: 0.1256 - accuracy: 0.9570 - val_loss: 0.4395 - val_accuracy: 0.8576\n",
            "Epoch 4/10\n",
            "43/43 [==============================] - 23s 489ms/step - loss: 0.0758 - accuracy: 0.9815 - val_loss: 0.4637 - val_accuracy: 0.8576\n",
            "Epoch 5/10\n",
            "43/43 [==============================] - 21s 454ms/step - loss: 0.0506 - accuracy: 0.9881 - val_loss: 0.4487 - val_accuracy: 0.8620\n",
            "Epoch 6/10\n",
            "43/43 [==============================] - 22s 475ms/step - loss: 0.0326 - accuracy: 0.9959 - val_loss: 0.4432 - val_accuracy: 0.8650\n",
            "Epoch 7/10\n",
            "43/43 [==============================] - 21s 454ms/step - loss: 0.0217 - accuracy: 0.9967 - val_loss: 0.4683 - val_accuracy: 0.8739\n",
            "Epoch 8/10\n",
            "43/43 [==============================] - 22s 436ms/step - loss: 0.0184 - accuracy: 0.9981 - val_loss: 0.4653 - val_accuracy: 0.8605\n",
            "Epoch 9/10\n",
            "43/43 [==============================] - 22s 445ms/step - loss: 0.0140 - accuracy: 0.9981 - val_loss: 0.5412 - val_accuracy: 0.8665\n",
            "Epoch 10/10\n",
            "43/43 [==============================] - 23s 489ms/step - loss: 0.0098 - accuracy: 0.9985 - val_loss: 0.4961 - val_accuracy: 0.8709\n"
          ]
        }
      ],
      "source": [
        "# Unfreeze the base model\n",
        "base_model5.trainable = True\n",
        "\n",
        "# It's important to recompile your model after you make any changes\n",
        "# to the `trainable` attribute of any inner layer, so that your changes\n",
        "# are take into account\n",
        "model.compile(optimizer=keras.optimizers.Adam(1e-5),  # Very low learning rate\n",
        "            loss='categorical_crossentropy',\n",
        "              metrics=['accuracy'])\n",
        "\n",
        "# Train end-to-end. Be careful to stop before you overfit!\n",
        "VGG19_transfer=model.fit(ds_train, epochs=10, validation_data=ds_val)"
      ],
      "id": "awDk5nbwd_cr"
    },
    {
      "cell_type": "markdown",
      "metadata": {
        "id": "rZLhvKpkd_cr"
      },
      "source": [
        "###**Plot VGG19 transfer**"
      ],
      "id": "rZLhvKpkd_cr"
    },
    {
      "cell_type": "code",
      "execution_count": null,
      "metadata": {
        "colab": {
          "base_uri": "https://localhost:8080/"
        },
        "outputId": "26ff26b9-cebc-4308-81bb-9f6b2d405faf",
        "id": "1OeC9jm5d_cr"
      },
      "outputs": [
        {
          "output_type": "display_data",
          "data": {
            "text/plain": [
              "<Figure size 1600x400 with 2 Axes>"
            ],
            "image/png": "[encoded data removed]"
          },
          "metadata": {}
        }
      ],
      "source": [
        "plot_training_history(VGG19_transfer)"
      ],
      "id": "1OeC9jm5d_cr"
    },
    {
      "cell_type": "markdown",
      "metadata": {
        "id": "0lJpQrQTmNnJ"
      },
      "source": [
        "# **Results Comparison**"
      ],
      "id": "0lJpQrQTmNnJ"
    },
    {
      "cell_type": "markdown",
      "metadata": {
        "id": "NBlBvgVweXjI"
      },
      "source": [
        "Model Name          |  Accuracy  | Validation Accuracy| Loss   | Validation Loss\n",
        "--------------------|------------|--------------------|--------|----------------\n",
        "Model V1 (best)  | 0.8418       | 0.8353               | 0.4067 | 0.4460\n",
        "ResNet50 Handcrafted| 0.2479     | 0.2404             | 1.3867 | 1.3886\n",
        "ResNet50 TR         | 0.9985     | 0.9006             | 0.0037 | 0.4694\n",
        "ResNet101 TR        | 0.9989     | 0.9154             | 0.0034 | 0.3832\n",
        "ResNet152 TR        | 0.9985     | 0.9139             | 0.0038 | 0.3858\n",
        "VGG12 Handcrafted   | 0.8881     | 0.8234             | 0.2956 | 0.4379\n",
        "VGG16 TR            | 0.9952     | 0.8813             | 0.0195 | 0.5394\n",
        "VGG19 TR            | 0.9985     | 0.8709             | 0.0098 | 0.4961"
      ],
      "id": "NBlBvgVweXjI"
    },
    {
      "cell_type": "markdown",
      "source": [
        "\n",
        "\n",
        "Based on the previous results, we can observe that the transfer learning (TL) models (``ResNet50``,``ResNet101`` and ``ResNet152``) are much more effective in comparison to the handcrafted model from the previous notebooks (``ResNet50``). In the ResNet models, it is evident how much the **performance** can be **improved** through the previous knowledge of these TL models, with much higher values of accuracy and validation accuracy. On the other hand, the loss and validation loss values are also significantly low. When comparing the TL, we can see that **performance also increases along with the depth** of these models.\n",
        "\n",
        "Regarding the VGG models, the **discrepancy** between the handcrafted model (``VGG12``) and the transfer learning models (``VGG16`` and ``VGG19``) are **lower** in comparison to ResNet, while also having a higher accuracy and lower loss. However, these models are more prone to **overfitting**. Contrarily to ResNet, the validation accuracy of these models did not increase along with the depth of the model(from ``VGG16`` to ``VGG19``).\n",
        "\n",
        "In comparison to our best hancrafted model, ``Model V1``, all of the **TL models outperform** it in terms of accuracy of training and validation. The values of validation loss of ``Model V1`` are similar to the rest of the models.\n",
        "\n",
        "Finally, we also noticed that the model had good performance in predicting our dataset without the fine-tuning and that, compared to all the models in the previous notebooks, the the running time was much lower."
      ],
      "metadata": {
        "id": "cgMVRoFrvfxQ"
      },
      "id": "cgMVRoFrvfxQ"
    }
  ],
  "metadata": {
    "accelerator": "GPU",
    "colab": {
      "collapsed_sections": [
        "ZtUbLqd-HUdL",
        "KJvbvbEfIDLu",
        "xf-siuUszLoZ",
        "0e80b093-d154-4abe-a85c-c45680611c13",
        "WACisq8ooEv3",
        "vR584STccbQ5",
        "e1_KCDgohgMz",
        "SVmbqne8d_cp",
        "rZLhvKpkd_cr"
      ],
      "provenance": []
    },
    "gpuClass": "standard",
    "kernelspec": {
      "display_name": "Python 3 (ipykernel)",
      "language": "python",
      "name": "python3"
    },
    "language_info": {
      "codemirror_mode": {
        "name": "ipython",
        "version": 3
      },
      "file_extension": ".py",
      "mimetype": "text/x-python",
      "name": "python",
      "nbconvert_exporter": "python",
      "pygments_lexer": "ipython3",
      "version": "3.9.13"
    }
  },
  "nbformat": 4,
  "nbformat_minor": 5
}